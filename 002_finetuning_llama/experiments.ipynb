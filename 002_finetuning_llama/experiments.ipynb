{
 "cells": [
  {
   "cell_type": "code",
   "execution_count": 1,
   "id": "e3bcf271-cb2a-4f65-9442-61a55b7dfc37",
   "metadata": {},
   "outputs": [],
   "source": [
    "import json\n",
    "from datasets import load_dataset, Dataset"
   ]
  },
  {
   "cell_type": "code",
   "execution_count": 2,
   "id": "e0f157b5-de8e-4e34-85cc-a8a456494fe8",
   "metadata": {},
   "outputs": [],
   "source": [
    "with open(\"stanzas.json\", \"r\", encoding=\"utf-8\") as json_stanzas_file:\n",
    "    json_stanzas_string = json_stanzas_file.read()\n",
    "    stanzas_dict = json.loads(json_stanzas_string)"
   ]
  },
  {
   "cell_type": "code",
   "execution_count": 4,
   "id": "81b15b03-a6bc-4d7c-a74c-5a259ed3fb5f",
   "metadata": {},
   "outputs": [],
   "source": [
    "pearl_ms_ds = Dataset.from_dict(stanzas_dict)"
   ]
  },
  {
   "cell_type": "code",
   "execution_count": 5,
   "id": "07d89ea1-958e-4771-8de9-843821cc6d34",
   "metadata": {},
   "outputs": [
    {
     "data": {
      "text/plain": [
       "{'user': '\\n Perle, pleasaunte to prynces paye\\nTo clanly clos in golde so clere,\\nOute of oryent, I hardyly saye,\\nNe proued I neuer her precios pere.\\nSo rounde, so reken in vche araye,\\nSo smal, so smoþe her sydeȝ were,\\nQuere-so-euer I jugged gemmeȝ gaye,\\nI sette hyr sengeley in synglere.\\nAllas! I leste hyr in on erbere;\\nÞurȝ gresse to grounde hit fro me yot.\\nI dewyne, fordolked of luf-daungere\\nOf þat pryuy perle wythouten spot.  \\n',\n",
       " 'assistant': '\\n Perle, pleasaunte to prynces paye\\nTo clanly clos in golde so clere,\\nOute of oryent, I hardyly saye,\\nNe proued I neuer her precios pere.\\nSo rounde, so reken in vche araye,\\nSo smal, so smoþe her sydeȝ were,\\nQuere-so-euer I jugged gemmeȝ gaye,\\nI sette hyr sengeley in synglere.\\nAllas! I leste hyr in on erbere;\\nÞurȝ gresse to grounde hit fro me yot.\\nI dewyne, fordolked of luf-daungere\\nOf þat pryuy perle wythouten spot.  \\n'}"
      ]
     },
     "execution_count": 5,
     "metadata": {},
     "output_type": "execute_result"
    }
   ],
   "source": [
    "pearl_ms_ds[0]"
   ]
  },
  {
   "cell_type": "code",
   "execution_count": 6,
   "id": "be9fc654-7b0c-49b3-842e-d90cd417a320",
   "metadata": {},
   "outputs": [],
   "source": [
    "def merge_example(datapoint):\n",
    "    datapoint['exchange'] = f\"\"\"Query: {datapoint['user']}\n",
    "    Response: {datapoint['assistant']}\"\"\"\n",
    "    return datapoint"
   ]
  },
  {
   "cell_type": "code",
   "execution_count": 7,
   "id": "d528c12c-784d-4a75-829f-27993bc568c0",
   "metadata": {},
   "outputs": [
    {
     "data": {
      "application/vnd.jupyter.widget-view+json": {
       "model_id": "bc4867284c5548fb92425db8d0d09ba3",
       "version_major": 2,
       "version_minor": 0
      },
      "text/plain": [
       "Map:   0%|          | 0/465 [00:00<?, ? examples/s]"
      ]
     },
     "metadata": {},
     "output_type": "display_data"
    }
   ],
   "source": [
    "pearl_ms_ds = pearl_ms_ds.map(merge_example)"
   ]
  },
  {
   "cell_type": "code",
   "execution_count": 9,
   "id": "dfb9dd14-591a-43ff-b161-d6242476e1fd",
   "metadata": {},
   "outputs": [
    {
     "data": {
      "text/plain": [
       "{'user': '\\n Perle, pleasaunte to prynces paye\\nTo clanly clos in golde so clere,\\nOute of oryent, I hardyly saye,\\nNe proued I neuer her precios pere.\\nSo rounde, so reken in vche araye,\\nSo smal, so smoþe her sydeȝ were,\\nQuere-so-euer I jugged gemmeȝ gaye,\\nI sette hyr sengeley in synglere.\\nAllas! I leste hyr in on erbere;\\nÞurȝ gresse to grounde hit fro me yot.\\nI dewyne, fordolked of luf-daungere\\nOf þat pryuy perle wythouten spot.  \\n',\n",
       " 'assistant': '\\n Perle, pleasaunte to prynces paye\\nTo clanly clos in golde so clere,\\nOute of oryent, I hardyly saye,\\nNe proued I neuer her precios pere.\\nSo rounde, so reken in vche araye,\\nSo smal, so smoþe her sydeȝ were,\\nQuere-so-euer I jugged gemmeȝ gaye,\\nI sette hyr sengeley in synglere.\\nAllas! I leste hyr in on erbere;\\nÞurȝ gresse to grounde hit fro me yot.\\nI dewyne, fordolked of luf-daungere\\nOf þat pryuy perle wythouten spot.  \\n',\n",
       " 'exchange': 'Query: \\n Perle, pleasaunte to prynces paye\\nTo clanly clos in golde so clere,\\nOute of oryent, I hardyly saye,\\nNe proued I neuer her precios pere.\\nSo rounde, so reken in vche araye,\\nSo smal, so smoþe her sydeȝ were,\\nQuere-so-euer I jugged gemmeȝ gaye,\\nI sette hyr sengeley in synglere.\\nAllas! I leste hyr in on erbere;\\nÞurȝ gresse to grounde hit fro me yot.\\nI dewyne, fordolked of luf-daungere\\nOf þat pryuy perle wythouten spot.  \\n\\n    Response: \\n Perle, pleasaunte to prynces paye\\nTo clanly clos in golde so clere,\\nOute of oryent, I hardyly saye,\\nNe proued I neuer her precios pere.\\nSo rounde, so reken in vche araye,\\nSo smal, so smoþe her sydeȝ were,\\nQuere-so-euer I jugged gemmeȝ gaye,\\nI sette hyr sengeley in synglere.\\nAllas! I leste hyr in on erbere;\\nÞurȝ gresse to grounde hit fro me yot.\\nI dewyne, fordolked of luf-daungere\\nOf þat pryuy perle wythouten spot.  \\n'}"
      ]
     },
     "execution_count": 9,
     "metadata": {},
     "output_type": "execute_result"
    }
   ],
   "source": [
    "pearl_ms_ds[0]"
   ]
  }
 ],
 "metadata": {
  "kernelspec": {
   "display_name": "Python 3 (ipykernel)",
   "language": "python",
   "name": "python3"
  },
  "language_info": {
   "codemirror_mode": {
    "name": "ipython",
    "version": 3
   },
   "file_extension": ".py",
   "mimetype": "text/x-python",
   "name": "python",
   "nbconvert_exporter": "python",
   "pygments_lexer": "ipython3",
   "version": "3.12.9"
  }
 },
 "nbformat": 4,
 "nbformat_minor": 5
}
