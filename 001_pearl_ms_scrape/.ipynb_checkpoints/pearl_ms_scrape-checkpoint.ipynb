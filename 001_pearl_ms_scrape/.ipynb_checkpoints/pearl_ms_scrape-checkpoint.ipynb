{
 "cells": [
  {
   "cell_type": "code",
   "execution_count": 20,
   "id": "0e31de2c-0bfc-4b1a-afed-71d75d1e344e",
   "metadata": {},
   "outputs": [],
   "source": [
    "patience_url = \"https://rpo.library.utoronto.ca/content/patience\"\n",
    "sir_gawain_url = \"https://rpo.library.utoronto.ca/content/sir-gawain-and-green-knight\"\n",
    "cleanness_url = \"https://rpo.library.utoronto.ca/content/cleanness\"\n",
    "pearl_url = \"pearl.html\"\n",
    "# pearl_url = \"https://quod.lib.umich.edu/c/cme/Pearl?rgn=main;view=fulltext\"\n",
    "# need to manually download pearl html file for this step "
   ]
  },
  {
   "cell_type": "code",
   "execution_count": 21,
   "id": "5295fab3-f254-4734-8f8e-e9ece6ce8547",
   "metadata": {},
   "outputs": [],
   "source": [
    "import requests\n",
    "from bs4 import BeautifulSoup\n",
    "\n",
    "def url_to_soup(url):\n",
    "    page = requests.get(url)\n",
    "    soup = BeautifulSoup(page.content, \"html.parser\")\n",
    "    return soup"
   ]
  },
  {
   "cell_type": "code",
   "execution_count": 22,
   "id": "424ced25-420a-482d-966b-9de8626e688a",
   "metadata": {},
   "outputs": [],
   "source": [
    "with open(\"pearl.html\", \"r\", encoding=\"utf-8\") as pearl_file:\n",
    "    pearl_html = pearl_file.read()\n",
    "    pearl_soup = BeautifulSoup(pearl_html, \"html.parser\")"
   ]
  },
  {
   "cell_type": "code",
   "execution_count": 23,
   "id": "fa276863-1167-4573-a010-f04921072324",
   "metadata": {},
   "outputs": [],
   "source": [
    "# patience_soup, sir_gawain_soup, cleanness_soup, pearl_soup = map(url_to_soup,\n",
    "#     [patience_url, sir_gawain_url, cleanness_url, pearl_url])"
   ]
  },
  {
   "cell_type": "code",
   "execution_count": 24,
   "id": "5fc1023f-d16b-498c-8e56-7ec8c6426572",
   "metadata": {
    "scrolled": true
   },
   "outputs": [],
   "source": [
    "# pearl_soup"
   ]
  },
  {
   "cell_type": "code",
   "execution_count": null,
   "id": "de3b4d9e-24ac-4147-950d-e2e293c96b56",
   "metadata": {},
   "outputs": [],
   "source": [
    "## <div class=\"lg lg--stanza\">\n",
    "## code doesn't work if this is included... "
   ]
  },
  {
   "cell_type": "code",
   "execution_count": 25,
   "id": "f100e658-5e03-4455-b3de-37f6ef4b7f1d",
   "metadata": {},
   "outputs": [],
   "source": [
    "stanzas = pearl_soup.find_all('div', \"lg lg--stanza\")"
   ]
  },
  {
   "cell_type": "code",
   "execution_count": 26,
   "id": "a67e62ad-b281-476f-aee5-22f6e259a81d",
   "metadata": {
    "scrolled": true
   },
   "outputs": [
    {
     "name": "stdout",
     "output_type": "stream",
     "text": [
      "\n",
      " Perle, pleasaunte to prynces paye\n",
      "To clanly clos in golde so clere,\n",
      "Oute of oryent, I hardyly saye,\n",
      "Ne proued I neuer her precios pere.\n",
      "So rounde, so reken in vche araye,\n",
      "So smal, so smoþe her sydeȝ were,\n",
      "Quere-so-euer I jugged gemmeȝ gaye,\n",
      "I sette hyr sengeley in synglere.\n",
      "Allas! I leste hyr in on erbere;\n",
      "Þurȝ gresse to grounde hit fro me yot.\n",
      "I dewyne, fordolked of luf-daungere\n",
      "Of þat pryuy perle wythouten spot.  \n",
      "\n"
     ]
    }
   ],
   "source": [
    "print(\"\".join([line.text for line in stanzas[0].find_all(\"span\", \"line\")]).replace(\"\\n\\n\", \"\\n\"))"
   ]
  },
  {
   "cell_type": "code",
   "execution_count": 27,
   "id": "10053ff2-1ee6-43b5-ae63-da7a592685bf",
   "metadata": {},
   "outputs": [],
   "source": [
    "pearl_stanzas = [\n",
    "    \"\".join([\n",
    "        line.text for line in stanza.find_all(\"span\", \"line\")]\n",
    "           ).replace(\"\\n\\n\", \"\\n\") for stanza in pearl_soup.find_all('div', \"lg lg--stanza\")]"
   ]
  },
  {
   "cell_type": "code",
   "execution_count": 28,
   "id": "63a31d3e-80b5-4d6e-b8ce-2bc0d23a2da5",
   "metadata": {},
   "outputs": [
    {
     "data": {
      "text/plain": [
       "['\\n Perle, pleasaunte to prynces paye\\nTo clanly clos in golde so clere,\\nOute of oryent, I hardyly saye,\\nNe proued I neuer her precios pere.\\nSo rounde, so reken in vche araye,\\nSo smal, so smoþe her sydeȝ were,\\nQuere-so-euer I jugged gemmeȝ gaye,\\nI sette hyr sengeley in synglere.\\nAllas! I leste hyr in on erbere;\\nÞurȝ gresse to grounde hit fro me yot.\\nI dewyne, fordolked of luf-daungere\\nOf þat pryuy perle wythouten spot.  \\n',\n",
       " '\\nSyþen in þat spote hit fro me sprange,\\nOfte haf I wayted, wyschande þat wele,\\nÞat wont watȝ whyle deuoyde my wrange\\nAnd heuen my happe and al my hele.\\nÞat dotȝ bot þrych my hert þrange,\\nMy breste in bale bot bolne and bele;\\nȜet þoȝt me neuer so swete a sange\\nAs stylle stounde let to me stele.\\nFor soþe þer fleten to me fele,\\nTo þenke hir color so clad in clot.\\nO moul, þou marreȝ a myry iuele,\\nMy priuy perle wythouten spotte.  \\n',\n",
       " '\\n Þat spot of spyseȝ mot nedeȝ sprede,\\nÞer such rycheȝ to rot is runne;\\nBlomeȝ blayke and blwe and rede\\nÞer schyneȝ ful schyr agayn þe sunne.\\nFlor and fryte may not be fede\\nÞer hit doun drof in moldeȝ dunne;\\nFor vch gresse mot grow of grayneȝ dede;\\nNo whete were elleȝ to woneȝ wonne.\\nOf goud vche goude is ay bygonne;\\nSo semly a sede moȝt fayly not,\\nÞat spryngande spyceȝ vp ne sponne\\nOf þat precios perle wythouten spotte.  \\n',\n",
       " '\\n To þat spot þat I in speche expoun\\nI entred in þat erber grene,\\nIn Augoste in a hyȝ seysoun,\\nQuen corne is coruen wyth crokeȝ kene.\\nOn huyle þer perle hit trendeled doun\\nSchadowed þis worteȝ ful schyre and schene,\\nGilofre, gyngure and gromylyoun,\\nAnd pyonys powdered ay bytwene.\\nȜif hit watȝ semly on to sene,\\nA fayr reflayr ȝet fro hit flot.\\nÞer wonys þat worþyly, I wot and wene,\\nMy precious perle wythouten spot.  \\n',\n",
       " '\\nBifore þat spot my honde I spenned\\nFor care ful colde þat to me caȝt;\\nA deuely dele in my hert denned,\\nÞaȝ resoun sette myseluen saȝt.\\n',\n",
       " '\\n I playned my perle þat þer watȝ spenned\\nWyth fyrce skylleȝ þat faste faȝt;\\nÞaȝ kynde of Kryst me comfort kenned,\\nMy wreched wylle in wo ay wraȝte.\\nI felle vpon þat floury flaȝt,\\nSuche odour to my herneȝ schot;\\nI slode vpon a slepyng-slaȝte\\nOn þat precios perle wythouten spot.\\n',\n",
       " '\\nFro spot my spyryt þer sprang in space;\\nMy body on balke þer bod in sweuen.\\nMy goste is gon in Godeȝ grace\\nIn auenture þer meruayleȝ meuen.\\nI ne wyste in þis worlde quere þat hit wace,\\nBot I knew me keste þer klyfeȝ cleuen;\\nTowarde a foreste I bere þe face,\\nWhere rych rokkeȝ wer to dyscreuen.\\nÞe lyȝt of hem myȝt no mon leuen,\\nÞe glemande glory þat of hem glent;\\nFor wern neuer webbeȝ þat wyȝeȝ weuen\\nOf half so dere adubbemente.  \\n',\n",
       " '\\n Dubbed wern alle þo downeȝ sydeȝ\\nWyth crystal klyffeȝ so cler of kynde.\\nHoltewodeȝ bryȝt aboute hem bydeȝ\\nOf bolleȝ as blwe as ble of Ynde;\\nAs bornyst syluer þe lef on slydeȝ,\\nÞat þike con trylle on vch a tynde.\\n',\n",
       " '\\n Quen glem of glodeȝ agaynȝ hem glydeȝ,\\nWyth schymeryng schene ful schrylle þay schynde.\\nÞe grauayl þat on grounde con grynde\\nWern precious perleȝ of oryente:\\nÞe sunnebemeȝ bot blo and blynde\\nIn respecte of þat adubbement.  \\n',\n",
       " '\\nThe adubbemente of þo downeȝ dere\\nGarten my goste al greffe forȝete.\\nSo frech flauoreȝ of fryteȝ were,\\nAs fode hit con me fayre refete.\\nFowleȝ þer flowen in fryth in fere,\\nOf flaumbande hweȝ, boþe smale and grete;\\nBot sytole-stryng and gyternere\\nHer reken myrþe moȝt not retrete;\\nFor quen þose bryddeȝ her wyngeȝ bete,\\nÞay songen wyth a swete asent.\\nSo gracios gle couþe no mon gete\\nAs here and se her adubbement.  \\n',\n",
       " '\\nSo al watȝ dubbet on dere asyse\\nÞat fryth þer fortwne forth me fereȝ.\\nÞat derþe þerof for to deuyse\\nNis no wyȝ worþé þat tonge bereȝ.\\nI welke ay forth in wely wyse;\\nNo bonk so byg þat did me dereȝ.\\nÞe fyrre in þe fryth, þe feier con ryse\\nÞe playn, þe plontteȝ, þe spyse, þe\\nAnd raweȝ and randeȝ and rych reuereȝ,\\nAs fyldor fyn her bonkes brent.\\nI wan to a water by schore þat schereȝ —\\nLorde, dere watȝ hit adubbement!  \\n',\n",
       " '\\n The dubbemente of þo derworth depe\\nWern bonkeȝ bene of beryl bryȝt.\\nSwangeande swete þe water con swepe,\\nWyth a rownande rourde raykande aryȝt.\\nIn þe founce þer stonden stoneȝ stepe,\\nAs glente þurȝ glas þat glowed and glyȝt,\\nAs stremande sterneȝ, quen stroþe-men slepe,\\nStaren in welkyn in wynter nyȝt;\\nFor vche a pobbel in pole þer pyȝt\\nWatȝ emerad, saffer, oþer gemme gente,\\nÞat alle þe loȝe lemed of lyȝt,\\nSo dere watȝ hit adubbement.\\n',\n",
       " '\\nThe dubbement dere of doun and daleȝ,\\nOf wod and water and wlonk playneȝ,\\nBylde in me blys, abated my baleȝ,\\nFordidden my stresse, dystryed my payneȝ.\\nDoun after a strem þat dryȝly haleȝ\\nI bowed in blys, bredful my brayneȝ;\\nÞe fyrre I folȝed þose floty valeȝ,\\nÞe more strenghþe of ioye myn herte strayneȝ.\\nAs fortune fares þer as ho frayneȝ,\\nWheþer solace ho sende oþer elleȝ sore,\\nÞe wyȝ to wham her wylle ho wayneȝ\\nHytteȝ to haue ay more and more.  \\n',\n",
       " '\\nMore of wele watȝ in þat wyse\\nÞen I cowþe telle þaȝ I tom hade,\\nFor vrþely herte myȝt not suffyse\\nTo þe tenþe dole of þo gladneȝ glade;\\n',\n",
       " '\\n Forþy I þoȝt þat Paradyse\\nWatȝ þer ouer gayn þo bonkeȝ brade.\\nI hoped þe water were a deuyse\\nBytwene myrþeȝ by mereȝ made;\\nByȝonde þe broke, by slente oþer slade,\\nI hoped þat mote merked wore.\\nBot þe water watȝ depe, I dorst not wade,\\nAnd euer me longed ay more and more.  \\n',\n",
       " '\\n More and more, and ȝet wel mare,\\nMe lyste to se þe broke byȝonde;\\nFor if hit watȝ fayr þer I con fare,\\nWel loueloker watȝ þe fyrre londe.\\nAbowte me con I stote and stare;\\nTo fynde a forþe faste con I fonde.\\nBot woþeȝ mo iwysse þer ware,\\nÞe fyrre I stalked by þe stronde.\\nAnd euer me þoȝt I schulde not wonde\\nFor wo þer weleȝ so wynne wore.\\nÞenne nwe note me com on honde\\nÞat meued my mynde ay more and more.  \\n',\n",
       " '\\nMore meruayle con my dom adaunt:\\nI seȝ byȝonde þat myry mere\\nA crystal clyffe ful relusaunt;\\nMony ryal ray con fro hit rere.\\nAt þe fote þerof þer sete a faunt,\\nA mayden of menske, ful debonere;\\nBlysnande whyt watȝ hyr bleaunt.\\nI knew hyr wel, I hade sen hyr ere.\\n',\n",
       " '\\n As glysnande golde þat man con schere,\\nSo schon þat schene an-vnder shore.\\nOn lenghe I loked to hyr þere;\\nÞe lenger, I knew hyr more and more.  \\n',\n",
       " '\\nThe more I frayste hyr fayre face,\\nHer fygure fyn quen I had fonte,\\nSuche gladande glory con to me glace\\nAs lyttel byfore þerto watȝ wonte.\\nTo calle hyr lyste con me enchace,\\nBot baysment gef myn hert a brunt.\\nI seȝ hyr in so strange a place,\\nSuch a burre myȝt make myn herte blunt.\\nÞenne vereȝ ho vp her fayre frount,\\nHyr vysayge whyt as playn yuore:\\nÞat stonge myn hert ful stray atount,\\nAnd euer þe lenger, þe more and more.\\n',\n",
       " '\\n More þen me lyste my drede aros.\\nI stod ful stylle and dorste not calle;\\nWyth yȝen open and mouth ful clos\\nI stod as hende as hawk in halle.\\nI hoped þat gostly watȝ þat porpose;\\nI dred onende quat schulde byfalle,\\nLest ho me eschaped þat I þer chos,\\nEr I at steuen hir moȝt stalle.\\nÞat gracios gay wythouten galle,\\nSo smoþe, so smal, so seme slyȝt,\\nRyseȝ vp in hir araye ryalle,\\nA precios pyece in perleȝ pyȝt.  \\n',\n",
       " '\\n Perleȝ pyȝte of ryal prys\\nÞere moȝt mon by grace haf sene,\\nQuen þat frech as flor-de-lys\\nDoun þe bonke con boȝe bydene.\\nAl blysnande whyt watȝ hir beau biys,\\nVpon at sydeȝ, and bounden bene\\nWyth þe myryeste margarys, at my deuyse,\\nÞat euer I seȝ ȝet with myn ene;\\nWyth lappeȝ large, I wot and I wene,\\nDubbed with double perle and dyȝte;\\nHer cortel of self sute schene,\\nWyth precios perleȝ al vmbepyȝte.  \\n',\n",
       " '\\nA pyȝt coroune ȝet wer þat gyrle\\nOf mariorys and non oþer ston.\\nHiȝe pynakled of cler quyt perle,\\nWyth flurted flowreȝ perfet vpon.\\nTo hed hade ho non oþer werle;\\nHer here leke, al hyr vmbegon,\\nHer semblaunt sade for doc oþer erle,\\nHer ble more blaȝt þen whalleȝ bon.\\nAs schorne golde schyr her fax þenne schon,\\nOn schyldereȝ þat leghe vnlapped lyȝte.\\nHer depe colour ȝet wonted non\\nOf precios perle in porfyl pyȝte.  \\n',\n",
       " '\\n Pyȝt watȝ poyned and vche a hemme\\nAt honde, at sydeȝ, at ouerture,\\nWyth whyte perle and non oþer gemme,\\nAnd bornyste quyte watȝ hyr uesture.\\n',\n",
       " '\\n Bot a wonder perle wythouten wemme\\nInmyddeȝ hyr breste watȝ sette so sure;\\nA manneȝ dom moȝt dryȝly demme,\\nEr mynde moȝt malte in hit mesure.\\nI hope no tong moȝt endure\\nNo sauerly saghe say of þat syȝt,\\nSo watȝ hit clene and cler and pure,\\nÞat precios perle þer hit watȝ pyȝt.  \\n',\n",
       " '\\nPyȝt in perle, þat precios pyece\\nOn wyþer half water com doun þe schore.\\nNo gladder gome heþen into Grece\\nÞen I, quen ho on brymme wore.\\nHo watȝ me nerre þen aunte or nece;\\nMy joy forþy watȝ much þe more.\\nHo profered me speche, þat special spece,\\nEnclynande lowe in wommon lore,\\nCaȝte of her coroun of grete tresore\\nAnd haylsed me wyth a lote lyȝte.\\nWel watȝ me þat euer I watȝ bore\\nTo sware þat swete in perleȝ pyȝte!\\n',\n",
       " \"\\n'O perle', quod I, 'in perleȝ pyȝt,\\nArt þou my perle þat I haf playned,\\nRegretted by myn one on nyȝte?\\nMuch longeyng haf I for þe layned,\\nSyþen into gresse þou me aglyȝte.\\nPensyf, payred, I am forpayned,\\nAnd þou in a lyf of lykyng lyȝte,\\nIn Paradys erde, of stryf vnstrayned.\\n\",\n",
       " \"\\n What wyrde hatȝ hyder my iuel vayned,\\nAnd don me in þys del and gret daunger?\\nFro we in twynne wern towen and twayned,\\nI haf ben a joyleȝ juelere.'  \\n\",\n",
       " \"\\n That juel þenne in gemmeȝ gente\\nVered vp her vyse wyth yȝen graye,\\nSet on hyr coroun of perle orient,\\nAnd soberly after þenne con ho say:\\n'Sir, ȝe haf your tale mysetente,\\nTo say your perle is al awaye,\\nÞat is in cofer so comly clente\\nAs in þis gardyn gracios gaye,\\nHereinne to lenge for euer and play,\\nÞer mys nee mornyng com neuer nere.\\nHer were a forser for þe, in faye,\\nIf þou were a gentyl jueler.  \\n\",\n",
       " \"\\n'Bot, jueler gente, if þou schal lose\\nÞy ioy for a gemme þat þe watȝ lef,\\nMe þynk þe put in a mad porpose,\\nAnd busyeȝ þe aboute a raysoun bref;\\nFor þat þou lesteȝ watȝ bot a rose\\nÞat flowred and fayled as kynde hyt gef.\\nNow þurȝ kynde of þe kyste þat hyt con close\\nTo a perle of prys hit is put in pref.\\nAnd þou hatȝ called þy wyrde a þef,\\nÞat oȝt of noȝt hatȝ mad þe cler;\\nÞou blameȝ þe bote of þy meschef,\\nÞou art no kynde jueler.'  \\n\",\n",
       " '\\nA juel to me þen watȝ þys geste,\\nAnd iueleȝ wern hyr gentyl saweȝ.\\n',\n",
       " \"\\n 'Iwyse', quod I, 'my blysfol beste,\\nMy grete dystresse þou al todraweȝ.\\nTo be excused I make requeste;\\nI trawed my perle don out of daweȝ.\\nNow haf I fonde hyt, I schal ma feste,\\nAnd wony wyth hyt in schyr wod-schaweȝ,\\nAnd loue my Lorde and al his laweȝ\\nÞat hatȝ me broȝt þys blys ner.\\nNow were I at yow byȝonde þise waweȝ,\\nI were a ioyful jueler.'  \\n\",\n",
       " \"\\n 'Jueler', sayde þat gemme clene,\\n'Wy borde ȝe men? So madde ȝe be!\\nÞre wordeȝ hatȝ þou spoken at ene:\\nVnavysed, for soþe, wern alle þre.\\nÞou ne woste in worlde quat on dotȝ mene;\\nÞy worde byfore þy wytte con fle.\\nÞou says þou traweȝ me in þis dene,\\nBycawse þou may wyth yȝen me se;\\nAnoþer þou says, in þys countré\\nÞyself schal won wyth me ryȝt here;\\nÞe þrydde, to passe þys water fre —\\nÞat may no ioyfol jueler.\\n\",\n",
       " \"\\n'I halde þat iueler lyttel to prayse\\nÞat leueȝ wel þat he seȝ wyth yȝe,\\nAnd much to blame and vncortayse\\nÞat leueȝ oure Lorde wolde make a lyȝe,\\n\",\n",
       " '\\n Þat lelly hyȝte your lyf to rayse,\\nÞaȝ fortune dyd your flesch to dyȝe.\\nȜe setten hys wordeȝ ful westernays\\nÞat leueȝ noþynk bot ȝe hit syȝe.\\nAnd þat is a poynt o sorquydryȝe,\\nÞat vche god mon may euel byseme,\\nTo leue no tale be true to tryȝe\\nBot þat hys one skyl may dem.  \\n',\n",
       " \"\\n'Deme now þyself if þou con dayly\\nAs man to God wordeȝ schulde heue.\\nÞou saytȝ þou schal won in þis bayly;\\nMe þynk þe burde fyrst aske leue,\\nAnd ȝet of graunt þou myȝteȝ fayle.\\nÞou wylneȝ ouer þys water to weue;\\nEr moste þou ceuer to oþer counsayle:\\nÞy corse in clot mot calder keue.\\nFor hit watȝ forgarte at Paradys greue;\\nOure ȝorefader hit con mysseȝeme.\\nÞurȝ drwry deth boȝ vch man dreue,\\nEr ouer þys dam hym Dryȝtyn deme.'  \\n\",\n",
       " \"\\n 'Demeȝ þou me', quod I, 'my swete,\\nTo dol agayn, þenne I dowyne.\\nNow haf I fonte þat I forlete,\\nSchal I efte forgo hit er euer I fyne?\\nWhy schal I hit boþe mysse and mete?\\nMy precios perle dotȝ me gret pyne.\\nWhat serueȝ tresor, bot gareȝ men grete\\nWhen he hit schal efte wyth teneȝ tyne?\\n\",\n",
       " \"\\n Now rech I neuer for to declyne,\\nNe how fer of folde þat man me fleme.\\nWhen I am partleȝ of perle myne,\\nBot durande doel what may men deme?'  \\n\",\n",
       " \"\\n'Thow demeȝ noȝt bot doel-dystresse',\\nÞenne sayde þat wyȝt. 'Why dotȝ þou so?\\nFor dyne of doel of lureȝ lesse\\nOfte mony mon forgos þe mo.\\nÞe oȝte better þyseluen blesse,\\nAnd loue ay God, in wele and wo,\\nFor anger gayneȝ þe not a cresse.\\nWho nedeȝ schal þole, be not so þro.\\nFor þoȝ þou daunce as any do,\\nBraundysch and bray þy braþeȝ breme,\\nWhen þou no fyrre may, to ne fro,\\nÞou moste abyde þat he schal deme.  \\n\",\n",
       " \"\\n'Deme Dryȝtyn, euer hym adyte,\\nOf þe way a fote ne wyl he wryþe.\\nÞy mendeȝ mounteȝ not a myte,\\nÞaȝ þou for sorȝe be neuer blyþe.\\nStynt of þy strot and fyne to flyte,\\nAnd sech hys blyþe ful swefte and swyþe.\\nÞy prayer may hys pyté byte,\\nÞat mercy schal hyr crafteȝ kyþe.\\nHys comforte may þy langour lyþe\\nAnd þy lureȝ of lyȝtly fleme;\\nFor, marre oþer madde, morne and myþe,\\nAl lys in hym to dyȝt and deme.'\\n\",\n",
       " \"\\n Thenne demed I to þat damyselle:\\n'Ne worþe no wrathþe vnto my Lorde,\\nIf rapely I raue, spornande in spelle.\\nMy herte watȝ al wyth mysse remorde,\\nAs wallande water gotȝ out of welle.\\nI do me ay in hys myserecorde.\\nRebuke me neuer wyth wordeȝ felle,\\nÞaȝ I forloyne, my dere endorde,\\nBot kyþeȝ me kyndely your coumforde,\\nPytosly þenkande vpon þysse:\\nOf care and me ȝe made acorde,\\nÞat er watȝ grounde of alle my blysse.  \\n\",\n",
       " \"\\n'My blysse, my bale, ȝe han ben boþe,\\nBot much þe bygger ȝet watȝ my mon;\\nFro þou watȝ wroken fro vch a woþe,\\nI wyste neuer quere my perle watȝ gon.\\nNow I hit se, now leþeȝ my loþe.\\nAnd, quen we departed, we wern at on;\\nGod forbede we be now wroþe,\\nWe meten so selden by stok oþer ston.\\nÞaȝ cortaysly ȝe carp con,\\nI am bot mol and manereȝ mysse.\\nBot Crystes mersy and Mary and Jon,\\nÞise arn þe grounde of alle my blisse.  \\n\",\n",
       " \"\\n'In blysse I se þe blyþely blent,\\nAnd I a man al mornyf mate;\\nȜe take þeron ful lyttel tente,\\nÞaȝ I hente ofte harmeȝ hate.\\n\",\n",
       " \"\\n Bot now I am here in your presente,\\nI wolde bysech, wythouten debate,\\nȜe wolde me say in sobre asente\\nWhat lyf ȝe lede erly and late.\\nFor I am ful fayn þat your astate\\nIs worþen to worschyp and wele, iwysse;\\nOf alle my joy þe hyȝe gate,\\nHit is in grounde of alle my blysse.'  \\n\",\n",
       " \"\\n 'Now blysse, burne, mot þe bytyde',\\nÞen sayde þat lufsoum of lyth and lere,\\n'And welcum here to walk and byde,\\nFor now þe speche is to me dere.\\nMaysterful mod and hyȝe pryde,\\nI hete þe, arn heterly hated here.\\nMy Lorde ne loueȝ not for to chyde,\\nFor meke arn alle þat woneȝ hym nere;\\nAnd when in hys place þou schal apere,\\nBe dep deuote in hol mekenesse.\\nMy Lorde þe Lamb loueȝ ay such chere,\\nÞat is þe grounde of alle my blysse.  \\n\",\n",
       " \"\\n'A blysful lyf þou says I lede;\\nÞou woldeȝ knaw þerof þe stage.\\nÞow wost wel when þy perle con schede\\nI watȝ ful ȝong and tender of age;\\nBot my Lorde þe Lombe þurȝ hys godhede,\\nHe toke myself to hys maryage,\\nCorounde me quene in blysse to brede\\nIn lenghe of dayeȝ þat euer schal wage;\\nAnd sesed in alle hys herytage\\nHys lef is. I am holy hysse:\\nHys prese, hys prys, and hys parage\\nIs rote and grounde of alle my blysse.'\\n\",\n",
       " \"\\n 'Blysful', quod I, 'may þys be trwe?\\nDyspleseȝ not if I speke errour.\\nArt þou þe quene of heueneȝ blwe,\\nÞat al þys worlde schal do honour?\\nWe leuen on Marye þat grace of grewe,\\nÞat ber a barne of vyrgyn flour;\\nÞe croune fro hyr quo moȝt remwe\\nBot ho hir passed in sum fauour?\\nNow, for synglerty o hyr dousour,\\nWe calle hyr Fenyx of Arraby,\\nÞat freles fleȝe of hyr fasor,\\nLyk to þe Quen of cortaysye.'  \\n\",\n",
       " \"\\n'Cortayse Quen', þenne sayde þat gaye,\\nKnelande to grounde, folde vp hyr face,\\n'Makeleȝ Moder and myryest May,\\nBlessed bygynner of vch a grace!'\\nÞenne ros ho vp and con restay,\\nAnd speke me towarde in þat space:\\n'Sir, fele here porchaseȝ and fongeȝ pray,\\nBot supplantoreȝ none wythinne þys place.\\nÞat emperise al heuenȝ hatȝ,\\nAnd vrþe and helle, in her bayly;\\nOf erytage ȝet non wyl ho chace,\\nFor ho is Quen of cortaysye.  \\n\",\n",
       " \"\\n'The court of þe kyndom of God alyue\\nHatȝ a property in hytself beyng:\\nAlle þat may þerinne aryue\\nOf alle þe reme is quen oþer kyng,\\n\",\n",
       " '\\n And neuer oþer ȝet schal depryue,\\nBot vchon fayn of oþereȝ hafyng,\\nAnd wolde her corouneȝ wern worþe þo fyue,\\nIf possyble were her mendyng.\\nBot my Lady of quom Jesu con spryng,\\nHo haldeȝ þe empyre ouer vus ful hyȝe;\\nAnd þat dyspleseȝ non of oure gyng,\\nFor ho is Quene of cortaysye.  \\n',\n",
       " \"\\n'Of courtaysye, as saytȝ Saynt Poule,\\nAl arn we membreȝ of Jesu Kryst:\\nAs heued and arme and legg and naule\\nTemen to hys body ful trwe and tryste,\\nRyȝt so is vch a Krysten sawle\\nA longande lym to þe Mayster of myste.\\nÞenne loke what hate oþer any gawle\\nIs tached oþer tyȝed þy lymmeȝ bytwyste.\\nÞy heued hatȝ nauþer greme ne gryste,\\nOn arme oþer fynger þaȝ þou ber byȝe.\\nSo fare we alle wyth luf and lyste\\nTo kyng and quene by cortaysye.'  \\n\",\n",
       " \"\\n 'Cortaysé', quod I, 'I leue,\\nAnd charyté grete, be yow among,\\nBot my speche þat yow ne greue,\\n.    .    .    .    .    .    .\\nÞyself in heuen ouer hyȝ þou heue,\\nTo make þe quen þat watȝ so ȝonge.\\nWhat more honour moȝte he acheue\\nÞat hade endured in worlde stronge,\\n\",\n",
       " '\\n And lyued in penaunce hys lyueȝ longe\\nWyth bodyly bale hym blysse to byye?\\nWhat more worschyp moȝt he fonge\\nÞen corounde be kyng by cortaysé?\\n',\n",
       " \"\\n'That cortaysé is to fre of dede,\\nȜyf hyt be soth þat þou coneȝ saye.\\nÞou lyfed not two ȝer in oure þede;\\nÞou cowþeȝ neuer God nauþer plese ne pray,\\nNe neuer nawþer Pater ne Crede;\\nAnd quen mad on þe fyrst day!\\nI may not traw, so God me spede,\\nÞat God wolde wryþe so wrange away.\\nOf countes, damysel, par ma fay,\\nWer fayr in heuen to halde asstate,\\nOþer elleȝ a lady of lasse aray;\\nBot a quene! Hit is to dere a date.'  \\n\",\n",
       " '\\n\\'Þer is no date of hys godnesse\\',\\nÞen sayde to me þat worþy wyȝte,\\n\\'For al is trawþe þat he con dresse,\\nAnd he may do noþynk bot ryȝt.\\nAs Mathew meleȝ in your messe\\nIn sothfol gospel of God almyȝt,\\nIn sample he can ful grayþely gesse,\\nAnd lykneȝ hit to heuen lyȝte.\\n\"My regne\", he saytȝ, \"is lyk on hyȝt\\nTo a lorde þat hade a uyne, I wate.\\nOf tyme of ȝere þe terme watȝ tyȝt,\\nTo labor vyne watȝ dere þe date.  \\n',\n",
       " '\\n \\'\"Þat date of ȝere wel knawe þys hyne.\\nÞe lorde ful erly vp he ros\\nTo hyre werkmen to hys vyne,\\nAnd fyndeȝ þer summe to hys porpos.\\nInto acorde þay con declyne\\nFor a pené on a day, and forth þay gotȝ,\\nWryþen and worchen and don gret pyne,\\nKeruen and caggen and man hit clos.\\nAboute vnder þe lorde to marked totȝ,\\nAnd ydel men stande he fyndeȝ þerate.\\n\\'Why stande ȝe ydel?\\' he sayde to þos.\\n\\'Ne knawe ȝe of þis day no date?\\'  \\n',\n",
       " '\\n\\'\"\\'Er date of daye hider arn we wonne\\',\\nSo watȝ al samen her answar soȝt.\\n\\'We haf standen her syn ros þe sunne,\\nAnd no mon byddeȝ vus do ryȝt noȝt.\\'\\n\\'Gos into my vyne, dotȝ þat ȝe conne\\',\\nSo sayde þe lorde, and made hit toȝt.\\n\\'What resonabele hyre be naȝt be runne\\nI yow pay in dede and þoȝte.\\'\\nÞay wente into þe vyne and wroȝte,\\nAnd al day þe lorde þus ȝede his gate,\\nAnd nw men to hys vyne he broȝte\\nWelneȝ wyl day watȝ passed date.  \\n',\n",
       " '\\n\\'\"At þe date of day of euensonge,\\nOn oure byfore þe sonne go doun,\\nHe seȝ þer ydel men ful stronge\\nAnd sade to hem wyth sobre soun,\\n',\n",
       " \"\\n 'Wy stonde ȝe ydel þise dayeȝ longe?'\\nÞay sayden her hyre watȝ nawhere boun.\\n'Gotȝ to my vyne, ȝemen ȝonge,\\nAnd wyrkeȝ and dotȝ þat at ȝe moun.'\\nSone þe worlde bycom wel broun;\\nÞe sunne watȝ doun and hit wex late.\\nTo take her hyre he mad sumoun;\\nÞe day watȝ al apassed date.\\n\",\n",
       " '\\n \\'\"The date of þe daye þe lorde con knaw,\\nCalled to þe reue: \\'Lede, pay þe meyny.\\nGyf hem þe hyre þat I hem owe,\\nAnd fyrre, þat non me may reprené,\\nSet hem alle vpon a rawe\\nAnd gyf vchon inlyche a peny.\\nBygyn at þe laste þat standeȝ lowe,\\nTyl to þe fyrst þat þou atteny.\\'\\nAnd þenne þe fyrst bygonne to pleny\\nAnd sayden þat þay hade trauayled sore:\\n\\'Þese bot on oure hem con streny;\\nVus þynk vus oȝe to take more.\\n',\n",
       " '\\n\\'\"\\'More haf we serued, vus þynk so,\\nÞat suffred han þe dayeȝ hete,\\nÞenn þyse þat wroȝt not houreȝ two,\\nAnd þou dotȝ hem vus to counterfete.\\'\\nÞenne sayde þe lorde to on of þo:\\n\\'Frende, no waning I wyl þe ȝete;\\nTake þat is þyn owne, and go.\\nAnd I hyred þe for a peny agrete,\\n',\n",
       " '\\n Quy bygynneȝ þou now to þrete?\\nWatȝ not a pené þy couenaunt þore?\\nFyrre þen couenaunde is noȝt to plete.\\nWy schalte þou þenne ask more?\\n',\n",
       " '\\n\\'\"\\'More, weþer louyly is me my gyfte,\\nTo do wyth myn quat-so me lykeȝ?\\nOþer elleȝ þyn yȝe to lyþer is lyfte\\nFor I am goude and non byswykeȝ?\\'\\nÞus schal I\", quod Kryste, \"hit skyfte:\\nÞe laste schal be þe fyrst þat strykeȝ,\\nAnd þe fyrst þe laste, be he neuer so swyft;\\nFor mony ben called, þaȝ fewe be mykeȝ.\"\\nÞus pore men her part ay pykeȝ,\\nÞaȝ þay com late and lyttel wore;\\nAnd þaȝ her sweng wyth lyttel atslykeȝ,\\nÞe merci of God is much þe more.  \\n',\n",
       " \"\\n 'More haf I of joye and blysse hereinne,\\nOf ladyschyp gret and lyueȝ blom,\\nÞen alle þe wyȝeȝ in þe worlde myȝt wynne\\nBy þe way of ryȝt to aske dome.\\nWheþer welnygh now I con bygynne —\\nIn euentyde into þe vyne I come —\\nFyrst of my hyre my Lorde con mynne:\\nI watȝ payed anon of al and sum.\\nȜet oþer þer werne þat toke more tom,\\nÞat swange and swat for long ȝore,\\nÞat ȝet of hyre noþynk þay nom,\\nParaunter noȝt schal to-ȝere more.'  \\n\",\n",
       " '\\n Then more I meled and sayde apert:\\n\\'Me þynk þy tale vnresounable.\\nGoddeȝ ryȝt is redy and euermore rert,\\nOþer Holy Wryt is bot a fable.\\nIn Sauter is sayd a verce ouerte\\nÞat spekeȝ a poynt determynable:\\n\"Þou quyteȝ vchon as hys desserte,\\nÞou hyȝe kyng ay pretermynable.\"\\nNow he þat stod þe long day stable,\\nAnd þou to payment com hym byfore,\\nÞenne þe lasse in werke to take more able,\\nAnd euer þe lenger þe lasse, þe more.\\'  \\n',\n",
       " \"\\n'Of more and lasse in Godeȝ ryche',\\nÞat gentyl sayde, 'lys no joparde,\\nFor þer is vch mon payed inlyche,\\nWheþer lyttel oþer much be hys rewarde;\\nFor þe gentyl Cheuentayn is no chyche,\\nQueþer-so-euer he dele nesch oþer harde:\\nHe laueȝ hys gyfteȝ as water of dyche,\\nOþer goteȝ of golf þat neuer charde.\\nHys fraunchyse is large þat euer dard\\nTo Hym þat matȝ in synne rescoghe;\\nNo blysse betȝ fro hem reparde,\\nFor þe grace of God is gret inoghe.  \\n\",\n",
       " \"\\n'Bot now þou moteȝ, me for to mate,\\nÞat I my peny haf wrang tan here;\\nÞou sayȝ þat I þat com to late\\nAm not worþy so gret fere.\\n\",\n",
       " '\\n Where wysteȝ þou euer any bourne abate,\\nEuer so holy in hys prayere,\\nÞat he ne forfeted by sumkyn gate\\nÞe mede sumtyme of heueneȝ clere?\\nAnd ay þe ofter, þe alder þay were,\\nÞay laften ryȝt and wroȝten woghe.\\nMercy and grace moste hem þen stere,\\nFor þe grace of God is gret innoȝe.  \\n',\n",
       " \"\\n'Bot innoghe of grace hatȝ innocent.\\nAs sone as þay arn borne, by lyne\\nIn þe water of babtem þay dyssente:\\nÞen arne þay boroȝt into þe vyne.\\nAnon þe day, wyth derk endente,\\nÞe niyȝt of deth dotȝ to enclyne:\\nÞat wroȝt neuer wrang er þenne þay wente,\\nÞe gentyle Lorde þenne payeȝ hys hyne.\\nÞay dyden hys heste, þay wern þereine;\\nWhy schulde he not her labour alow,\\nȜys, and pay hem at þe fyrst fyne?\\nFor þe grace of God is gret innoghe.  \\n\",\n",
       " \"\\n'Inoȝe is knawen þat mankyn grete\\nFyrste watȝ wroȝt to blysse parfyt;\\nOure forme fader hit con forfete\\nÞurȝ an apple þat he vpon con byte.\\nAl wer we dampned for þat mete\\nTo dyȝe in doel out of delyt\\nAnd syþen wende to helle hete,\\nÞerinne to won wythoute respyt.\\nBot þeron com a bote astyt.\\nRyche blod ran on rode so roghe,\\n\",\n",
       " '\\n And wynne water þen at þat plyt:\\nÞe grace of God wex gret innoghe.  \\n',\n",
       " \"\\n 'Innoghe þer wax out of þat welle,\\nBlod and water of brode wounde.\\nÞe blod vus boȝt fro bale of helle\\nAnd delyuered vus of þe deth secounde;\\nÞe water is baptem, þe soþe to telle,\\nÞat folȝed þe glayue so grymly grounde,\\nÞat wascheȝ away þe gylteȝ felle\\nÞat Adam wyth inne deth vus drounde.\\nNow is þer noȝt in þe worlde rounde\\nBytwene vus and blysse bot þat he wythdroȝ,\\nAnd þat is restored in sely stounde;\\nAnd þe grace of God is gret innogh.  \\n\",\n",
       " \"\\n'Grace innogh þe mon may haue\\nÞat synneȝ þenne new, ȝif hym repente,\\nBot wyth sorȝ and syt he mot hit craue,\\nAnd byde þe payne þerto is bent.\\nBot resoun of ryȝt þat con not raue\\nSaueȝ euermore þe innossent;\\nHit is a dom þat neuer God gaue,\\nÞat euer þe gyltleȝ schulde be schente.\\nÞe gyltyf may contryssyoun hente\\nAnd be þurȝ mercy to grace þryȝt;\\nBot he to gyle þat neuer glente\\nAnd inoscente is saf and ryȝte.  \\n\",\n",
       " '\\n \\'Ryȝt þus I knaw wel in þis cas\\nTwo men to saue is god by skylle:\\nÞe ryȝtwys man schal se hys face,\\nÞe harmleȝ haþel schal com hym tylle.\\nÞe Sauter hyt satȝ þus in a pace:\\n\"Lorde, quo schal klymbe þy hyȝ hylle,\\nOþer rest wythinne þy holy place?\"\\nHymself to onsware he is not dylle:\\n\"Hondelyngeȝ harme þat dyt not ille,\\nÞat is of hert boþe clene and lyȝt,\\nÞer schal hys step stable stylle\":\\nÞe innosent is ay saf by ryȝt.  \\n',\n",
       " '\\n \\'The ryȝtwys man also sertayn\\nAproche he schal þat proper pyle,\\nÞat takeȝ not her lyf in vayne,\\nNe glauereȝ her nieȝbor wyth no gyle.\\nOf þys ryȝtwys saȝ Salamon playn\\nHow Koyntise onoure con aquyle;\\nBy wayeȝ ful streȝt ho con hym strayn,\\nAnd scheued hym þe rengne of God awhyle,\\nAs quo says, \"Lo, ȝon louely yle!\\nÞou may hit wynne if þou be wyȝte.\"\\nBot, hardyly, wythoute peryle,\\nÞe innosent is ay saue by ryȝte.  \\n',\n",
       " '\\n\\'Anende ryȝtwys men ȝet saytȝ a gome,\\nDauid in Sauter, if euer ȝe syȝ hit:\\n\"Lorde, Þy seruaunt draȝ neuer to dome,\\nFor non lyuyande to þe is justyfyet.\"\\n',\n",
       " '\\n Forþy to corte quen þou schal com\\nÞer alle oure causeȝ schal be tryed,\\nAlegge þe ryȝt, þou may be innome,\\nBy þys ilke spech I haue asspyed;\\nBot he on rode þat blody dyed,\\nDelfully þurȝ hondeȝ þryȝt,\\nGyue þe to passe, when þou arte tryed,\\nBy innocens and not by ryȝte.  \\n',\n",
       " '\\n\\'Ryȝtwysly quo con rede,\\nHe loke on bok and be awayed\\nHow Jesus hym welke in areþede,\\nAnd burneȝ her barneȝ vnto hym brayde.\\nFor happe and hele þat fro hym ȝede\\nTo touch her chylder þay fayr hym prayed.\\nHis dessypeleȝ wyth blame let be hem bede\\nAnd wyth her resouneȝ ful fele restayed.\\nJesus þenne hem swetely sayde:\\n\"Do way, let chylder vnto me tyȝt.\\nTo suche is heuenryche arayed\":\\nÞe innocent is ay saf by ryȝt.  \\n',\n",
       " \"\\n'Iesus con calle to hym hys mylde,\\nAnd sayde hys ryche no wyȝ myȝt wynne\\nBot he com þyder ryȝt as a chylde,\\nOþer elleȝ neuermore com þerinne.\\nHarmleȝ, trwe, and vndefylde,\\nWythouten mote oþer mascle of sulpande synne,\\n\",\n",
       " '\\n Quen such þer cnoken on þe bylde,\\nTyt schal hem men þe ȝate vnpynne.\\nÞer is þe blys þat con not blynne\\nÞat þe jueler soȝte þurȝ perré pres,\\nAnd solde alle hys goud, boþe wolen and lynne,\\nTo bye hym a perle watȝ mascelleȝ.  \\n',\n",
       " \"\\n'This makelleȝ perle, þat boȝt is dere,\\nÞe joueler gef fore alle hys god,\\nIs lyke þe reme of heuenesse clere:\\nSo sayde þe Fader of folde and flode;\\nFor hit is wemleȝ, clene, and clere,\\nAnd endeleȝ rounde, and blyþe of mode,\\nAnd commune to alle þat ryȝtwys were.\\nLo, euen inmyddeȝ my breste hit stode.\\nMy Lorde þe Lombe, þat schede hys blode,\\nHe pyȝt hit þere in token of pes.\\nI rede þe forsake þe worlde wode\\nAnd porchace þy perle maskelles.'  \\n\",\n",
       " \"\\n'O maskeleȝ perle in perleȝ pure,\\nÞat bereȝ', quod I, 'þe perle of prys,\\nQuo formed þe þy fayre fygure?\\nÞat wroȝt þy wede, he watȝ ful wys.\\nÞy beauté com neuer of nature;\\nPymalyon paynted neuer þy vys,\\nNe Arystotel nawþer by hys lettrure\\nOf carped þe kynde þese propertéȝ.\\nÞy colour passeȝ þe flour-de-lys;\\nÞyn angel-hauyng so clene corteȝ.\\nBreue me, bryȝt, quat kyn offys\\nBereȝ þe perle so maskelleȝ?'  \\n\",\n",
       " '\\n \\'My makeleȝ Lambe þat al may bete\\',\\nQuod scho, \\'my dere destyné,\\nMe ches to hys make, alþaȝ vnmete\\nSumtyme semed þat assemblé.\\nWhen I wente fro yor worlde wete,\\nHe calde me to hys bonerté:\\n\"Cum hyder to me, my lemman swete,\\nFor mote ne spot is non in þe.\"\\nHe gef me myȝt and als bewté;\\nIn hys blod he wesch my wede on dese,\\nAnd coronde clene in vergynté,\\nAnd pyȝt me in perleȝ maskelleȝ.\\'  \\n',\n",
       " \"\\n'Why, maskelleȝ byrd þat bryȝt con flambe,\\nÞat reiatéȝ hatȝ so ryche and ryf,\\nQuat kyn þyng may be þat Lambe\\nÞat þe wolde wedde vnto hys vyf?\\nOuer alle oþer so hyȝ þou clambe\\nTo lede wyth hym so ladyly lyf.\\nSo mony a comly on-vunder cambe\\nFor Kryst han lyued in much stryf;\\nAnd þou con alle þo dere out dryf\\nAnd fro þat maryag al oþer depres,\\nAl only þyself so stout and styf,\\nA makeleȝ may and maskelleȝ.'  \\n\",\n",
       " '\\n\\'Maskelles\\', quod þat myry quene,\\n\\'Vnblemyst I am, wythouten blot,\\nAnd þat may I wyth mensk menteene;\\nBot \"makeleȝ quene\" þenne sade I not.\\n',\n",
       " '\\n Þe Lambes vyueȝ in blysse we bene,\\nA hondred and forty fowre þowsande flot,\\nAs in þe Apocalyppeȝ hit is sene;\\nSant John hem syȝ al in a knot.\\nOn þe hyl of Syon, þat semly clot,\\nÞe apostel hem segh in gostly drem\\nArayed to þe weddyng in þat hyl-coppe,\\nÞe nwe cyté o Jerusalem.  \\n',\n",
       " '\\n \\'Of Jerusalem I in speche spelle.\\nIf þou wyl knaw what kyn he be,\\nMy Lombe, my Lorde, my dere juelle,\\nMy ioy, my blys, my lemman fre,\\nÞe profete Ysaye of hym con melle\\nPitously of hys debonerté:\\n\"Þat gloryous gyltleȝ þat mon con quelle\\nWythouten any sake of felonye,\\nAs a schep to þe slaȝt þer lad watȝ he;\\nAnd, as lombe þat clypper in hande nem,\\nSo closed he hys mouth fro vch query,\\nQuen Jueȝ hym iugged in Jerusalem.\"  \\n',\n",
       " \"\\n'In Jerusalem watȝ my lemman slayn\\nAnd rent on rode wyth boyeȝ bolde.\\nAl oure baleȝ to bere ful bayn,\\nHe toke on hymself oure careȝ colde.\\nWyth boffeteȝ watȝ hys face flayn\\nÞat watȝ so fayr on to byholde.\\n\",\n",
       " '\\n For synne he set hymself in vayn,\\nÞat neuer hade non hymself to wolde.\\nFor vus he lette hym flyȝe and folde\\nAnd brede vpon a bostwys bem;\\nAs meke as lomp þat no playnt tolde\\nFor vus he swalt in Jerusalem.  \\n',\n",
       " '\\n\\'In Jerusalem, Jordan, and Galalye,\\nÞer as baptysed þe goude Saynt Jon,\\nHis wordeȝ acorded to Ysaye.\\nWhen Jesus con to hym warde gon.\\nHe sayde of hym þys professye:\\n\"Lo, Godeȝ Lombe as trwe as ston,\\nÞat dotȝ away þe synneȝ dryȝe\\nÞat alle þys worlde hatȝ wroȝt vpon.\\nHymself ne wroȝt neuer ȝet non;\\nWheþer on hymself he con al clem.\\nHys generacyoun quo recen con,\\nÞat dyȝed for vus in Jerusalem?\"  \\n',\n",
       " \"\\n 'In Ierusalem þus my lemman swete\\nTwyeȝ for lombe watȝ taken þare,\\nBy trw recorde of ayþer prophete,\\nFor mode so meke and al hys fare.\\nÞe þryde tyme is þerto ful mete,\\nIn Apokalypeȝ wryten ful ȝare;\\nInmydeȝ þe trone, þere saynteȝ sete,\\nÞe apostel Iohn hym saȝ as bare,\\nLesande þe boke with leueȝ sware\\nÞere seuen syngnetteȝ wern sette in seme;\\nAnd at þat syȝt vche douth con dare\\nIn helle, in erþe, and Jerusalem.  \\n\",\n",
       " \"\\n 'Thys Jerusalem Lombe hade neuer pechche\\nOf oþer huee bot quyt jolyf\\nÞat mot ne masklle moȝt on streche,\\nFor wolle quyte so ronk and ryf.\\nForþy vche saule þat hade neuer teche\\nIs to þat Lombe a worthyly wyf;\\nAnd þaȝ vch day a store he feche,\\nAmong vus commeȝ nouþer strot ne stryf;\\nBot vchon enlé we wolde were fyf —\\nÞe mo þe myryer, so God me blesse.\\nIn compayny gret our luf con þryf\\nIn honour more and neuer þe lesse.  \\n\",\n",
       " \"\\n'Lasse of blysse may non vus bryng\\nÞat beren þys perle vpon oure bereste,\\nFor þay of mote couþe neuer mynge\\nOf spotleȝ perleȝ þat beren þe creste.\\nAlþaȝ oure corses in clotteȝ clynge,\\nAnd ȝe remen for rauþe wythouten reste,\\nWe þurȝoutly hauen cnawyng;\\nOf on dethe ful oure hope is drest.\\nÞe Lombe vus gladeȝ, oure care is kest;\\nHe myrþeȝ vus alle at vch a mes.\\nVchoneȝ blysse is breme and beste,\\nAnd neuer oneȝ honour ȝet neuer þe les.  \\n\",\n",
       " \"\\n 'Lest les þou leue my tale farande,\\nIn Appocalyppece is wryten in wro:\\n\",\n",
       " '\\n \"I seghe\", says John, \"þe Loumbe hym stande\\nOn þe mount of Syon ful þryuen and þro,\\nAnd wyth hym maydenneȝ and hundreþe þowsande,\\nAnd fowre and forty þowsande mo.\\nOn alle her forhedeȝ wryten I fande\\nÞe Lombeȝ nome, hys Fadereȝ also.\\nA hue from heuen I herde þoo,\\nLyk flodeȝ fele laden runnen on resse,\\nAnd as þunder þroweȝ in torreȝ blo,\\nÞat lote, I leue, watȝ neuer þe les.  \\n',\n",
       " '\\n\\'\"Nauþeles, þaȝ hit schowted scharpe,\\nAnd ledden loude alþaȝ hit were,\\nA note ful nwe I herde hem warpe,\\nTo lysten þat watȝ ful lufly dere.\\nAs harporeȝ harpen in her harpe,\\nÞat nwe songe þay songen ful cler,\\nIn sounande noteȝ a gentyl carpe;\\nFul fayre þe modeȝ þay fonge in fere.\\nRyȝt byfore Godeȝ chayere\\nAnd þe fowre besteȝ þat hym obes\\nAnd þe aldermen so sadde of chere,\\nHer songe þay songen neuer þe les.  \\n',\n",
       " '\\n\\'\"Nowþelese non watȝ neuer so quoynt,\\nFor alle þe crafteȝ þat euer þay knewe,\\nÞat of þat songe myȝt synge a poynt,\\nBot þat meyny þe Lombe þat swe;\\nFor þay arn boȝt fro þe vrþe aloynte\\nAs newe fryt to God ful due,\\nAnd to þe gentyl Lombe hit arn anioynt,\\nAs lyk to hymself of lote and hwe;\\n',\n",
       " '\\n For neuer lesyng ne tale vntrwe\\nNe towched her tonge for no dysstresse.\\nÞat moteles meyny may neuer remwe\\nFro þat maskeleȝ mayster, neuer þe les.\"\\'  \\n',\n",
       " \"\\n 'Neuer þe les let be my þonc',\\nQuod I, 'My perle, þaȝ I appose;\\nI schulde not tempte þy wyt so wlonc,\\nTo Krysteȝ chambre þat art ichose.\\nI am bot mokke and mul among,\\nAnd þou so ryche a reken rose,\\nAnd bydeȝ here by þys blysful bonc\\nÞer lyueȝ lyste may neuer lose.\\nNow, hynde, þat sympelnesse coneȝ enclose,\\nI wolde þe aske a þynge expresse,\\nAnd þaȝ I be bustwys as a blose,\\nLet my bone vayl neuerþelese.  \\n\",\n",
       " \"\\n'Neuerþelese cler I yow bycalle,\\nIf ȝe con se hyt be to done;\\nAs þou art gloryous wythouten galle,\\nWythnay þou neuer my ruful bone.\\nHaf ȝe no woneȝ in castel-walle,\\nNe maner þer ȝe may mete and won?\\nÞou telleȝ me of Jerusalem þe ryche ryalle,\\nÞer Dauid dere watȝ dyȝt on trone,\\nBot by þyse holteȝ hit con not hone,\\nBot in Judee hit is, þat noble note.\\nAs ȝe ar maskeleȝ vnder mone,\\nYour woneȝ schulde be wythouten mote.  \\n\",\n",
       " \"\\n 'Þys moteleȝ meyny þou coneȝ of mele,\\nOf þousandeȝ þryȝt so gret a route,\\nA gret ceté, for ȝe arn fele,\\nYow byhod haue, wythouten doute.\\nSo cumly a pakke of joly juele\\nWer euel don schulde lyȝ þeroute,\\nAnd by þyse bonkeȝ þer I con gele\\nI se no bygyng nawhere aboute.\\nI trowe alone ȝe lenge and loute\\nTo loke on þe glory of þys gracious gote.\\nIf þou hatȝ oþer bygyngeȝ stoute,\\nNow tech me to þat myry mote.'  \\n\",\n",
       " \"\\n 'That mote þou meneȝ in Judy londe',\\nÞat specyal spyce þen to me spakk,\\n'Þat is þe cyté þat þe Lombe con fonde\\nTo soffer inne sor for maneȝ sake,\\nÞe olde Jerusalem to vnderstonde;\\nFor þere þe olde gulte watȝ don to slake.\\nBot þe nwe, þat lyȝt of Godeȝ sonde,\\nÞe apostel in Apocalyppce in theme con take.\\nÞe Lompe þer wythouten spotteȝ blake\\nHatȝ feryed þyder hys fayre flote;\\nAnd as hys flok is wythouten flake,\\nSo is hys mote wythouten moote.  \\n\",\n",
       " '\\n\\'Of motes two to carpe clene,\\nAnd Jerusalem hyȝt boþe nawþeles —\\nÞat nys to yow no more to mene\\nBot \"ceté of God\", oþer \"syȝt of pes\":\\nIn þat on oure pes watȝ mad at ene;\\nWyth payne to suffer þe Lombe hit chese;\\n',\n",
       " \"\\n In þat oþer is noȝt bot pes to glene\\nÞat ay schal laste wythouten reles.\\nÞat is þe borȝ þat we to pres\\nFro þat oure flesch be layd to rote,\\nÞer glory and blysse schal euer encres\\nTo þe meyny þat is wythouten mote.'  \\n\",\n",
       " \"\\n'Moteleȝ may so meke and mylde',\\nÞen sayde I to þat lufly flor,\\n'Bryng me to þat bygly bylde\\nAnd let me se þy blysful bor.'\\nÞat schene sayde: 'Þat God wyl schylde;\\nÞou may not enter wythinne hys tor,\\nBot of þe Lombe I haue þe aquylde\\nFor a syȝt þerof þurȝ gret fauor.\\nVtwyth to se þat clene cloystor\\nÞou may, bot inwyth not a fote;\\nTo strech in þe strete þou hatȝ no vygour,\\nBot þou wer clene wythouten mote.  \\n\",\n",
       " \"\\n 'If I þis mote þe schal vnhyde,\\nBow vp towarde þys borneȝ heued,\\nAnd I anendeȝ þe on þis syde\\nSchal sve, tyl þou to a hil be veued.'\\nÞen wolde I no lenger byde,\\nBot lurked by launceȝ so lufly leued,\\nTyl on a hyl þat I asspyed\\nAnd blusched on þe burghe, as I forth dreued,\\nByȝonde þe brok fro me warde keued,\\nÞat schyrrer þen sunne wyth schafteȝ schon.\\n\",\n",
       " '\\n In þe Apokalypce is þe fasoun preued,\\nAs deuyseȝ hit þe apostel Jhon.  \\n',\n",
       " '\\nAs John þe apostel hit syȝ wyth syȝt,\\nI syȝe þat cyty of gret renoun,\\nJerusalem so nwe and ryally dyȝt,\\nAs hit was lyȝt fro þe heuen adoun.\\nÞe borȝ watȝ al of brende golde bryȝt\\nAs glemande glas burnist broun,\\nWyth gentyl gemmeȝ an-vnder pyȝt\\nWyth banteleȝ twelue on basyng boun,\\nÞe foundementeȝ twelue of riche tenoun;\\nVch tabelment watȝ a serlypeȝ ston;\\nAs derely deuyseȝ þis ilk toun\\nIn Apocalyppeȝ þe apostel John.  \\n',\n",
       " '\\nAs John þise stoneȝ in writ con nemme,\\nI knew þe name after his tale:\\nJasper hyȝt þe fyrst gemme\\nÞat I on þe fyrst basse con wale:\\nHe glente grene in þe lowest hemme;\\nSaffer helde þe secounde stale;\\nÞe calsydoyne þenne wythouten wemme\\nIn þe þryd table con purly pale;\\nÞe emerade þe furþe so grene of scale;\\nÞe sardonyse þe fyfþe ston;\\nÞe sexte þe rybé he con hit wale\\nIn þe Apocalyppce, þe apostel John.  \\n',\n",
       " '\\n Ȝet joyned John þe crysolyt\\nÞe seuenþe gemme in fundament; \\n',\n",
       " '\\n Þe aȝtþe þe beryl cler and quyt;\\nÞe topasye twynne-hew þe nente endent;\\nÞe crysopase þe tenþe is tyȝt;\\nÞe jacynght þe enleuenþe gent;\\nÞe twelfþe, þe gentyleste in vch a plyt,\\nÞe amatyst purpre wyth ynde blente;\\nÞe wal abof þe bantels bent\\nO jasporye, as glas þat glysnande schon;\\nI knew hit by his deuysement\\nIn þe Apocalyppeȝ, þe apostel John.  \\n',\n",
       " '\\nAs John deuysed ȝet saȝ I þare:\\nÞise twelue degres wern brode and stayre;\\nÞe cyté stod abof ful sware,\\nAs longe as brode as hyȝe ful fayre;\\nÞe streteȝ of golde as glasse al bare,\\nÞe wal of jasper þat glent as glayre;\\nÞe woneȝ wythinne enurned ware\\nWyth alle kynneȝ perré þat moȝt repayre.\\nÞenne helde vch sware of þis manayre\\nTwelue forlonge space, er euer hit fon,\\nOf heȝt, of brede, of lenþe to cayre,\\nFor meten hit syȝ þe apostel John.  \\n',\n",
       " '\\nAs John hym wryteȝ ȝet more I syȝe:\\nVch pane of þat place had þre ȝateȝ;\\nSo twelue in poursent I con asspye,\\nÞe portaleȝ pyked of rych plateȝ,\\n',\n",
       " '\\n And vch ȝate of a margyrye,\\nA parfyt perle þat neuer fateȝ.\\nVchon in scrypture a name con plye\\nOf Israel barneȝ, folewande her dateȝ,\\nÞat is to say, as her byrþ-whateȝ:\\nÞe aldest ay fyrst þeron watȝ done.\\nSuch lyȝt þer lemed in alle þe strateȝ\\nHem nedde nawþer sunne ne mone.  \\n',\n",
       " '\\n Of sunne ne mone had þay no nede;\\nÞe self God watȝ her lombe-lyȝt,\\nÞe Lombe her lantyrne, wythouten drede;\\nÞurȝ hym blysned þe borȝ al bryȝt.\\nÞurȝ woȝe and won my lokyng ȝede,\\nFor sotyle cler noȝt lette no lyȝt.\\nÞe hyȝe trone þer moȝt ȝe hede\\nWyth alle þe apparaylmente vmbepyȝte,\\nAs John þe appostel in termeȝ tyȝte;\\nÞe hyȝe Godeȝ self hit set vpone.\\nA reuer of þe trone þer ran outryȝte\\nWatȝ bryȝter þen boþe þe sunne and mone.  \\n',\n",
       " '\\nSunne ne mone schon neuer so swete\\nAs þat foysoun flode out of þat flet;\\nSwyþe hit swange þurȝ vch a strete\\nWythouten fylþe oþer galle oþer glet.\\nKyrk þerinne watȝ non ȝete,\\nChapel ne temple þat euer watȝ set;\\nÞe Almyȝty watȝ her mynster mete,\\nÞe Lombe þe sakerfyse þer to refet.\\n',\n",
       " '\\n Þe ȝateȝ stoken watȝ neuer ȝet,\\nBot euermore vpen at vche a lone;\\nÞer entreȝ non to take reset\\nÞat bereȝ any spot an-vnder mone.  \\n',\n",
       " '\\nThe mone may þerof acroche no myȝte;\\nTo spotty ho is, of body to grym,\\nAnd also þer ne is neuer nyȝt.\\nWhat schulde þe mone þer compas clym\\nAnd to euen wyth þat worþly lyȝt\\nÞat schyneȝ vpon þe brokeȝ brym?\\nÞe planeteȝ arn in to pouer a plyȝt,\\nAnd þe self sunne ful fer to dym.\\nAboute þat water arn tres ful schym,\\nÞat twelue fryteȝ of lyf con bere ful sone;\\nTwelue syþeȝ on ȝer þay beren ful frym,\\nAnd renowleȝ nwe in vche a mone.  \\n',\n",
       " '\\nAn-vnder mone so great merwayle\\nNo fleschly hert ne myȝt endeure,\\nAs quen I blusched vpon þat bayle,\\nSo ferly þerof watȝ þe fasure.\\nI stod as stylle as dased quayle\\nFor ferly of þat frelich fygure,\\nÞat felde I nawþer reste ne trauayle,\\nSo watȝ I rauyste wyth glymme pure.\\nFor I dar say wyth conciens sure,\\nHade bodyly burne abiden þat bone,\\nÞaȝ alle clerkeȝ hym hade in cure,\\nHis lyf were loste an-vnder mone.\\n',\n",
       " '\\n Ryȝt as þe maynful mone con rys\\nEr þenne þe day-glem dryue al doun,\\nSo sodanly on a wonder wyse\\nI watȝ war of a prosessyoun.\\nÞis noble cité of ryche enpryse\\nWatȝ sodanly ful wythouten sommoun\\nOf such vergyneȝ in þe same gyse\\nÞat watȝ my blysful an-vnder croun:\\nAnd coronde wern alle of þe same fasoun,\\nDepaynt in perleȝ and wedeȝ qwyte;\\nIn vchoneȝ breste watȝ bounden boun\\nÞe blysful perle wyth gret delyt.  \\n',\n",
       " '\\nWyth gret delyt þay glod in fere\\nOn golden gateȝ þat glent as glasse;\\nHundreth þowsandeȝ I wot þer were,\\nAnd alle in sute her liuréȝ wasse;\\nTor to knaw þe gladdest chere.\\nÞe Lombe byfore con proudly passe\\nWyth horneȝ seuen of red golde cler;\\nAs praysed perleȝ his wedeȝ wasse.\\nTowarde þe throne þay trone a tras.\\nÞaȝ þay wern fele, no pres in plyt,\\nBot mylde as maydeneȝ seme at mas,\\nSo droȝ þay forth wyth gret delyt.  \\n',\n",
       " '\\nDelyt þat hys come encroched\\nTo much hit were of for to melle\\nÞise aldermen, quen he aproched,\\nGrouelyng to his fete þay felle.\\n',\n",
       " '\\n Legyounes of aungeleȝ togeder uoched\\nÞer kesten ensens of swete smelle.\\nÞen glory and gle watȝ nwe abroched;\\nAl songe to loue þat gay juelle.\\nÞe steuen moȝt stryke þurȝ þe vrþe to helle\\nÞat þe Vertues of heuen of joye endyte.\\nTo loue þe Lombe his meyny in melle\\nIwysse I laȝt a gret delyt.  \\n',\n",
       " '\\nDelit þe Lombe for to deuise\\nWyth much meruayle in mynde went.\\nBest watȝ he, blyþest, and moste to pryse,\\nÞat euer I herde of speche spent;\\nSo worþly whyt wern wedeȝ hys,\\nHis lokeȝ symple, hymself so gent.\\nBot a wounde ful wyde and weete con wyse\\nAnende hys hert, þurȝ hyde torente.\\nOf his quyte syde his blod outsprent.\\nAlas, þoȝt I, who did þat spyt?\\nAni breste for bale aȝt haf forbrent\\nEr he þerto hade had delyt.  \\n',\n",
       " '\\nThe Lombe delyt non lyste to wene.\\nÞaȝ he were hurt and wounde hade,\\nIn his sembelaunt watȝ neuer sene,\\nSo wern his glenteȝ gloryous glade.\\nI loked among his meyny schene\\nHow þay wyth lyf wern laste and lade;\\nÞen saȝ I þer my lyttel quene\\nÞat I wende had standen by me in sclade.\\nLorde, much of mirþe watȝ þat ho made\\nAmong her fereȝ þat watȝ so quyt!\\nÞat syȝt me gart to þenk to wade\\nFor luf-longyng in gret delyt.\\n',\n",
       " '\\n Delyt me drof in yȝe and ere,\\nMy maneȝ mynde to maddyng malte;\\nQuen I seȝ my frely, I wolde be þere,\\nByȝonde þe water þaȝ ho were walte.\\nI þoȝt þat noþyng myȝt me dere\\nTo fech me bur and take me halte,\\nAnd to start in þe strem schulde non me stere,\\nTo swymme þe remnaunt, þaȝ I þer swalte.\\nBot of þat munt I watȝ bitalt;\\nWhen I schulde start in þe strem astraye,\\nOut of þat caste I watȝ bycalt:\\nHit watȝ not at my Prynceȝ paye.  \\n',\n",
       " \"\\nHit payed hym not þat I so flonc\\nOuer meruelous mereȝ, so mad arayde.\\nOf raas þaȝ I were rasch and ronk,\\nȜet rapely þerinne I watȝ restrayed.\\nFor, ryȝt as I sparred vnto þe bonc,\\nÞat brathþe out of my drem me brayde.\\nÞen wakned I in þat erber wlonk;\\nMy hede vpon þat hylle watȝ layde\\nÞer as my perle to grounde strayd.\\nI raxled, and fel in gret affray,\\nAnd, sykyng, to myself I sayd,\\n'Now al be to þat Prynces paye'.  \\n\",\n",
       " '\\nMe payed ful ille to be outfleme\\nSo sodenly of þat fayre regioun,\\nFro alle þo syȝteȝ so quyke and queme.\\nA longeyng heuy me strok in swone,\\n',\n",
       " \"\\n And rewfully þenne I con to reme:\\n'O perle', quod I, 'of rych renoun,\\nSo watȝ hit me dere þat þou con deme\\nIn þys veray avysyoun!\\nIf hit be ueray and soth sermoun\\nÞat þou so stykeȝ in garlande gay,\\nSo wel is me in þys doel-doungoun\\nÞat þou art to þat Prynseȝ paye.'  \\n\",\n",
       " '\\n To þat Prynceȝ paye hade I ay bente,\\nAnd ȝerned no more þen watȝ me gyuen,\\nAnd halden me þer in trwe entent,\\nAs þe perle me prayed þat watȝ so þryuen,\\nAs helde, drawen to Goddeȝ present,\\nTo mo of his mysterys I hade ben dryuen;\\nBot ay wolde man of happe more hente\\nÞen moȝte by ryȝt vpon hem clyuen.\\nÞerfore my ioye watȝ sone toriuen,\\nAnd I kaste of kytheȝ þat lasteȝ aye.\\nLorde, mad hit arn þat agayn þe stryuen,\\nOþer proferen þe oȝt agayn þy paye.  \\n',\n",
       " '\\nTo pay þe Prince oþer sete saȝte\\nHit is ful eþe to þe god Krystyin;\\nFor I haf founden hym, boþe day and naȝte,\\nA God, a Lorde, a frende ful fyin.\\nOuer þis hyul þis lote I laȝte,\\nFor pyty of my perle enclyin,\\nAnd syþen to God I hit bytaȝte\\nIn Krysteȝ dere blessyng and myn,\\n',\n",
       " '\\n Þat in þe forme of bred and wyn\\nÞe preste vus scheweȝ vch a daye.\\nHe gef vus to be his homly hyne\\nAnde precious perleȝ vnto his pay.\\n']"
      ]
     },
     "execution_count": 28,
     "metadata": {},
     "output_type": "execute_result"
    }
   ],
   "source": [
    "pearl_stanzas"
   ]
  },
  {
   "cell_type": "code",
   "execution_count": 29,
   "id": "97f88df4-764a-48c5-95e8-0985e4c5f18a",
   "metadata": {},
   "outputs": [
    {
     "name": "stdout",
     "output_type": "stream",
     "text": [
      "\n",
      "Me payed ful ille to be outfleme\n",
      "So sodenly of þat fayre regioun,\n",
      "Fro alle þo syȝteȝ so quyke and queme.\n",
      "A longeyng heuy me strok in swone,\n",
      "\n"
     ]
    }
   ],
   "source": [
    "print(pearl_stanzas[-5])"
   ]
  },
  {
   "cell_type": "code",
   "execution_count": 30,
   "id": "4f553fca-327d-46e2-bb40-57d98cdc21be",
   "metadata": {},
   "outputs": [],
   "source": [
    "# sir_gawain_soup"
   ]
  },
  {
   "cell_type": "code",
   "execution_count": 31,
   "id": "d665ab94-11bc-43d1-ba67-1cc1146f3e47",
   "metadata": {},
   "outputs": [],
   "source": [
    "sir_gawain_soup = url_to_soup(sir_gawain_url)"
   ]
  },
  {
   "cell_type": "code",
   "execution_count": 40,
   "id": "535d6485-3342-44eb-a699-5795bef4fcef",
   "metadata": {},
   "outputs": [
    {
     "name": "stdout",
     "output_type": "stream",
     "text": [
      "All unique div classes:\n",
      "Class: dialog-off-canvas-main-canvas\n",
      "Class: ml-2 d-none d-inline-block align-top site-name-slogan\n",
      "Class: collapse navbar-collapse justify-content-end\n",
      "Class: highlighted\n",
      "Class: hidden\n",
      "Class: layout-main-wrapper clearfix\n",
      "Class: container\n",
      "Class: row row-offcanvas row-offcanvas-left clearfix\n",
      "Class: block block-core block-page-title-block\n",
      "Class: content\n",
      "Class: block block-system block-system-main-block\n",
      "Class: node node--type-poem node--view-mode-full ds-1col clearfix\n",
      "Class: field field--name-node-title field--type-ds field--label-hidden field__item\n",
      "Class: node node--type-poet node--view-mode-in-node-embed ds-1col clearfix\n",
      "Class: clearfix text-formatted field field--name-field-poem-originaltxt field--type-text-long field--label-inline\n",
      "Class: field__label\n",
      "Class: field__item\n",
      "Class: field field--name-field-poem-body field--type-rpofields-poembody field--label-hidden field__item\n",
      "Class: poemline stanza\n",
      "Class: poemline\n",
      "Class: poem-notes\n",
      "Class: line-note\n",
      "Class: field field--name-field-pubdatestartyr field--type-integer field--label-inline\n",
      "Class: clearfix text-formatted field field--name-field-poem-pubnote field--type-text-long field--label-inline\n",
      "Class: field field--name-field-poem-editors field--type-string field--label-inline\n",
      "Class: field__items\n",
      "Class: views-element-container\n",
      "Class: view view-eva view-poems view-id-poems view-display-id-entity_view_2 js-view-dom-id-f20fb192b89e2373bd632d6b811540594982a6251ba4a2f5757c914c099ec4f0\n",
      "Class: field field--name-field-poem-rpoedition field--type-string field--label-inline\n",
      "Class: view view-eva view-poems view-id-poems view-display-id-entity_view_3 js-view-dom-id-000496636a6233fa6969835cc12b3b0c5837afa644f639855da07eadc838be2f\n",
      "Class: site-footer__top clearfix\n",
      "Class: block block-block-content block-block-contented1afc92-f325-4010-9b55-4a26065d6f92\n",
      "Class: clearfix text-formatted field field--name-body field--type-text-with-summary field--label-hidden field__item\n",
      "\n",
      "Total unique class combinations: 33\n"
     ]
    }
   ],
   "source": [
    "divs = sir_gawain_soup.find_all('div')\n",
    "print(\"All unique div classes:\")\n",
    "classes_seen = set()\n",
    "for div in divs:\n",
    "    if div.get('class'):\n",
    "        class_str = ' '.join(div.get('class'))\n",
    "        if class_str not in classes_seen:\n",
    "            classes_seen.add(class_str)\n",
    "            print(f\"Class: {class_str}\")\n",
    "print(\"\\nTotal unique class combinations:\", len(classes_seen))"
   ]
  },
  {
   "cell_type": "code",
   "execution_count": 42,
   "id": "c97ce3f7-d8a7-4389-acd1-23acc594869a",
   "metadata": {},
   "outputs": [
    {
     "name": "stdout",
     "output_type": "stream",
     "text": [
      "First 10 poem lines:\n",
      "Line 1: [fol. 91r]\n",
      "Line 2: [fitt1: stanza 1 (long)]\n",
      "Line 3: 1siþen þe sege and þe assaut watz sesed at troye\n",
      "Line 4: 2þe bor3 brittened and brent to brondez and askez\n",
      "Line 5: 3þe tulk þat þe trammes of tresoun þer wro3t\n",
      "Line 6: 4watz tried for his tricherie þe trewest on erþe\n",
      "Line 7: 5hit watz ennias þe athel and his highe kynde\n",
      "Line 8: 6þat siþen depreced prouinces and patrounes bicome\n",
      "Line 9: 7welne3e of al þe wele in þe west iles\n",
      "Line 10: 8fro riche romulus to rome ricchis hym swyþe\n"
     ]
    }
   ],
   "source": [
    "print(\"First 10 poem lines:\")\n",
    "for i, line in enumerate(poem_lines[:10]):\n",
    "    text = line.text.strip()\n",
    "    print(f\"Line {i+1}: {text}\")"
   ]
  },
  {
   "cell_type": "code",
   "execution_count": 62,
   "id": "19d18ded-21fc-43ab-b037-a51467cc8ece",
   "metadata": {},
   "outputs": [
    {
     "name": "stdout",
     "output_type": "stream",
     "text": [
      "\n",
      "Found 405 stanzas\n",
      "\n",
      "First stanza:\n",
      "[fol. 91r]\n"
     ]
    }
   ],
   "source": [
    "stanza_check = sir_gawain_soup.find_all('div', class_='poemline stanza')\n",
    "print(f\"\\nFound {len(stanzas)} stanzas\")\n",
    "if stanzas:\n",
    "    print(\"\\nFirst stanza:\")\n",
    "    print(stanza_check[0].text.strip())"
   ]
  },
  {
   "cell_type": "code",
   "execution_count": 63,
   "id": "682e62a7-c133-461b-82c2-a25c97dce9bf",
   "metadata": {},
   "outputs": [],
   "source": [
    "gawain_stanzas = sir_gawain_soup.find_all('div', \"poemline stanza\")"
   ]
  },
  {
   "cell_type": "code",
   "execution_count": 73,
   "id": "01105520-63e3-469c-92c8-7bbf4a27b062",
   "metadata": {},
   "outputs": [
    {
     "name": "stdout",
     "output_type": "stream",
     "text": [
      "siþen þe sege and þe assaut watz sesed at troye\n"
     ]
    }
   ],
   "source": [
    "print(\"\".join([line.text for line in gawain_stanzas[1].find_all(\"span\", \"line-text\")]).replace(\"\\n\\n\", \"\\n\"))"
   ]
  },
  {
   "cell_type": "code",
   "execution_count": 100,
   "id": "d99c58b4-a039-45fa-8b82-097095057ad5",
   "metadata": {},
   "outputs": [],
   "source": [
    "gawain_stanzas2 = [\n",
    "    \"\\n\".join([\n",
    "        line.text for line in stanza.find_all(\"span\", \"line-text\")\n",
    "        if not line.find('nonum') and line.text.strip()  # Skip translations and empty lines\n",
    "    ]).replace(\"\\n\\n\", \"\\n\")\n",
    "    for stanza in sir_gawain_soup.find_all('div', \"poemline stanza\")\n",
    "    if any(line.text.strip() for line in stanza.find_all(\"span\", \"line-text\") if not line.find('nonum'))  # Only include stanzas with non-empty content\n",
    "]"
   ]
  },
  {
   "cell_type": "code",
   "execution_count": 101,
   "id": "1c219f8e-b033-442d-8471-04e4c1b0c9c3",
   "metadata": {},
   "outputs": [
    {
     "data": {
      "text/plain": [
       "['siþen þe sege and þe assaut watz sesed at troye',\n",
       " 'ande quen þis bretayn watz bigged bi þis burn rych',\n",
       " 'þis kyng lay at camylot vpon kryst masse',\n",
       " 'wyle nw 3er watz so 3ep þat hit watz nwe cummen',\n",
       " 'bot arthure wolde not ete til al were serued',\n",
       " 'þus þer stondes in stale þe stif kyng hisseluen',\n",
       " 'now wyl I of hor seruise say yow no more',\n",
       " 'ande al grayþed in grene þis gome and his wedes',\n",
       " 'wel gay watz þis gome gered in grene',\n",
       " 'wheþer hade he no helme ne hawbrgh nauþer',\n",
       " 'ther watz lokyng on lenþe þe lude to beholde',\n",
       " 'þenn arþour bifore þe hi3 dece þat auenture byholdez',\n",
       " 'nay frayst I no fy3t in fayth I þe telle',\n",
       " 'if he hem stowned vpon fyrst stiller were þanne',\n",
       " 'ande sayde haþel by heuen þyn askyng is nys',\n",
       " 'wolde 3e worþilych lorde quoþ gawan to þe kyng',\n",
       " 'þen commaunded þe kyng þe kny3t for to ryse',\n",
       " 'bigog quoþ þe grene kny3t sir gawan me lykes',\n",
       " 'þe grene kny3t vpon grounde grayþely hym dresses',\n",
       " 'for þe hede in his honde he haldez vp euen',\n",
       " 'þa3 arþer þe hende kyng at hert hade wonder',\n",
       " 'this hanselle hatz arthur of auenturus on fyrst',\n",
       " 'after þe sesoun of somer wyth þe soft wyndez',\n",
       " '3et quyl alhalday with arþer he lenges',\n",
       " 'he dowellez þer al þat day and dressez on þe morn',\n",
       " 'when he watz hasped in armes his harnays watz ryche',\n",
       " 'then þay schewed hym þe schelde þat was of schyr goulez',\n",
       " 'fyrst he watz funden fautlez in his fyue wyttez',\n",
       " 'he sperred þe sted with þe spurez and sprong on his way',\n",
       " 'now ridez þis renk þur3 þe ryalme of logres',\n",
       " 'mony klyf he ouerclambe in contrayez straunge',\n",
       " 'bi a mounte on þe morne meryly he rydes',\n",
       " 'nade he sayned hymself segge bot þrye',\n",
       " 'þe burne bode on bonk þat on blonk houed',\n",
       " 'gode sir quoþ gawan woldez þou go myn ernde',\n",
       " 'gawayn gly3t on þe gome þat godly hym gret',\n",
       " 'a cheyer byfore þe chemne þer charcole brenned',\n",
       " 'þenne watz spyed and spured vpon spare wyse',\n",
       " 'bi þat þe diner watz done and þe dere vp',\n",
       " 'when gawayn gly3t on þat gay þat graciously loked',\n",
       " 'on þe morne as vch mon mynez þat tyme',\n",
       " 'much dut watz þer dryuen þat day and þat oþer',\n",
       " 'then frayned þe freke ful fayre at himseluen',\n",
       " 'þenne watz gawan ful glad and gomenly he la3ed',\n",
       " '3et firre quoþ þe freke a forwarde we make',\n",
       " 'ful erly bifore þe day þe folk vprysen',\n",
       " 'at þe fyrst quethe of þe quest quaked þe wylde',\n",
       " 'þus laykez þis lorde by lynde wodez euez',\n",
       " 'god moroun sir gawayn sayde þat fayr lady',\n",
       " 'in god fayth quoþ gawayn gayn hit me þynkkez',\n",
       " 'madame quoþ þe myry mon mary yow 3elde',\n",
       " 'þenne ho gef hym god day and wyth a glent la3ed',\n",
       " 'and ay þe lorde of þe londe is lent on his gamnez',\n",
       " 'boþe þe hede and þe hals þay hwen of þenne',\n",
       " 'thenne comaunded þe lorde in þat sale to samen alle þe meny',\n",
       " 'and syþen by þe chymne in chamber þay seten',\n",
       " 'sone þay calle of a quest in a ker syde',\n",
       " 'schalkez to schote at hym schowen to þenne',\n",
       " 'ho commes to þe cortyn and at þe kny3t totes',\n",
       " 'I woled wyt at yow wy3e þat worþy þer sayde',\n",
       " 'in goud fayþe quoþ gawayn god yow for3elde',\n",
       " 'then ruþes hym þe renk and ryses to þe masse [fol. 112r]',\n",
       " 'til þe kny3t com hymself kachande his blonk',\n",
       " 'there watz blawyng of prys in mony breme horne',\n",
       " 'þe lorde ful lowde with lote and la3ed myry',\n",
       " 'þenne þay teldet tablez trestes alofte',\n",
       " 'andre þer þay dronken and dalten and demed eft nwe',\n",
       " 'after messe a morsel he and his men token',\n",
       " 'thenne watz hit lif vpon list to lyþen þe houndez',\n",
       " 'in drez droupyng of dreme draueled þat noble',\n",
       " 'for þat prynce of pris depresed hym so þikke',\n",
       " 'þat is a worde quoþ þat wy3t þat worst is of alle',\n",
       " 'ho ra3t hym a riche rynk of red golde werkez',\n",
       " 'now forsake 3e þis silke sayde þe burde þenne',\n",
       " 'thenne lachchez ho hir leue and leuez hym þere',\n",
       " 'now hym lenge in þat lee þer luf hym bityde',\n",
       " 'and þenne þay helden to home for hit watz nie3 ny3t',\n",
       " 'with merþe and mynstralsye with metez at hor wylle',\n",
       " 'with care and wyth kyssyng he carppez hem tille',\n",
       " 'now ne3ez þe nw 3ere and þe ny3t passez',\n",
       " 'whyle þe wlonkest wedes he warp on hymseluen',\n",
       " 'thenne watz gryngolet grayþe þat gret watz and huge',\n",
       " 'the brygge watz brayde doun and þe brode 3atez',\n",
       " 'for I haf wonnen yow hider wy3e at þis tyme',\n",
       " 'forþy goude sir gawayn let þe gome one',\n",
       " 'mary quoþ þat oþer mon now þou so much spellez',\n",
       " 'thenne gyrdez he to gryngolet and gederez þe rake',\n",
       " 'now iwysse quoþ wowayn wysty is here',\n",
       " 'thenne þe kny3t con calle ful hy3e',\n",
       " 'gawayn quoþ þat grene gome god þe mot loke',\n",
       " 'then þe gome in þe grene grayþed hym swyþe',\n",
       " 'bot busk burne bi þi fayth and bryng me to þe poynt',\n",
       " 'he lyftes ly3tly his lome and let hit doun fayre',\n",
       " 'the haþel heldet hym fro and on his ax rested',\n",
       " 'for hit is my wede þat þou werez þat ilke wouen girdel',\n",
       " 'thenn lo3e þat oþer leude and luflyly sayde',\n",
       " 'nay for soþe quoþ þe segge and sesed hys helme',\n",
       " 'bot your gordel quoþ gawayn god yow for3elde',\n",
       " 'ho wayned me vpon þis wyse to your wynne halle',\n",
       " 'wylde wayez in þe worlde wowen now rydez',\n",
       " 'lo lorde quoþ þe leude and þe lace hondeled']"
      ]
     },
     "execution_count": 101,
     "metadata": {},
     "output_type": "execute_result"
    }
   ],
   "source": [
    "gawain_stanzas2"
   ]
  },
  {
   "cell_type": "code",
   "execution_count": 102,
   "id": "868c83cc-028b-4efb-b7fc-ef042b98949d",
   "metadata": {},
   "outputs": [
    {
     "name": "stdout",
     "output_type": "stream",
     "text": [
      "siþen þe sege and þe assaut watz sesed at troye\n"
     ]
    }
   ],
   "source": [
    "print(gawain_stanzas2[0])"
   ]
  },
  {
   "cell_type": "code",
   "execution_count": 103,
   "id": "84ba5f75-6c2f-4bc2-a872-07f074210ed1",
   "metadata": {},
   "outputs": [],
   "source": [
    "gawain_stanzas2 = []\n",
    "current_stanza = []\n",
    "for div in sir_gawain_soup.find_all('div', 'poemline'):\n",
    "    if 'stanza' in div.get('class', []):  # Start of a new stanza section\n",
    "        if current_stanza:  # If we have lines from previous stanza, add them\n",
    "            gawain_stanzas2.append('\\n'.join(current_stanza))\n",
    "        current_stanza = []\n",
    "    \n",
    "    line = div.find('span', 'line-text')\n",
    "    if line and not line.find('nonum') and line.text.strip():\n",
    "        current_stanza.append(line.text.strip())\n",
    "\n",
    "# Don't forget to add the last stanza\n",
    "if current_stanza:\n",
    "    gawain_stanzas2.append('\\n'.join(current_stanza))"
   ]
  },
  {
   "cell_type": "code",
   "execution_count": 104,
   "id": "1e09ad4e-caf0-4050-9ca6-facfc19ea2f3",
   "metadata": {},
   "outputs": [
    {
     "name": "stdout",
     "output_type": "stream",
     "text": [
      "siþen þe sege and þe assaut watz sesed at troye\n",
      "þe bor3 brittened and brent to brondez and askez\n",
      "þe tulk þat þe trammes of tresoun þer wro3t\n",
      "watz tried for his tricherie þe trewest on erþe\n",
      "hit watz ennias þe athel and his highe kynde\n",
      "þat siþen depreced prouinces and patrounes bicome\n",
      "welne3e of al þe wele in þe west iles\n",
      "fro riche romulus to rome ricchis hym swyþe\n",
      "with gret bobbaunce þat bur3e he biges vpon fyrst\n",
      "and neuenes hit his aune nome as hit now hat\n",
      "ticius to tuskan and teldes bigynnes\n",
      "langaberde in lumbardie lyftes vp homes\n",
      "and fer ouer þe french flod felix brutus\n",
      "on mony bonkkes ful brode bretayn he settez\n",
      "wyth wynne\n",
      "where werre and wrake and wonder\n",
      "bi syþez hatz wont þerinne\n",
      "and oft boþe blysse and blunder\n",
      "ful skete hatz skyfted synne\n"
     ]
    }
   ],
   "source": [
    "print(gawain_stanzas2[0])"
   ]
  },
  {
   "cell_type": "code",
   "execution_count": 105,
   "id": "9a487c20-cffc-4992-855a-a16a86730e9c",
   "metadata": {},
   "outputs": [
    {
     "name": "stdout",
     "output_type": "stream",
     "text": [
      "ande quen þis bretayn watz bigged bi þis burn rych\n",
      "bolde bredden þerinne baret þat lofden\n",
      "in mony turned tyme tene þat wro3ten\n",
      "mo ferlyes on þis folde han fallen here oft\n",
      "þen in any oþer þat I wot syn þat ilk tyme\n",
      "bot of alle þat here bult of bretaygne kynges\n",
      "ay watz arthur þe hendest as I haf herde telle [fol. 91]\n",
      "forþi an aunter in erde I attle to schawe\n",
      "þat a selly in si3t summe men hit holden\n",
      "and an outtrage awenture of arthurez wonderez\n",
      "if 3e wyl lysten þis laye bot on littel quile\n",
      "I schal telle hit as tit as I in toun herde\n",
      "with tonge\n",
      "as hit is stad and stoken\n",
      "in stori stif and stronge\n",
      "with lel letteres loken\n",
      "in londe so hatz ben longe\n"
     ]
    }
   ],
   "source": [
    "print(gawain_stanzas2[1])"
   ]
  },
  {
   "cell_type": "code",
   "execution_count": null,
   "id": "10955c1d-f16e-4860-8107-581c179c0292",
   "metadata": {},
   "outputs": [],
   "source": []
  }
 ],
 "metadata": {
  "kernelspec": {
   "display_name": "Python 3 (ipykernel)",
   "language": "python",
   "name": "python3"
  },
  "language_info": {
   "codemirror_mode": {
    "name": "ipython",
    "version": 3
   },
   "file_extension": ".py",
   "mimetype": "text/x-python",
   "name": "python",
   "nbconvert_exporter": "python",
   "pygments_lexer": "ipython3",
   "version": "3.11.7"
  }
 },
 "nbformat": 4,
 "nbformat_minor": 5
}
