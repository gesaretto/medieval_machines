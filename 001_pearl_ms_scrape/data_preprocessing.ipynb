{
 "cells": [
  {
   "cell_type": "code",
   "execution_count": 1,
   "id": "0e31de2c-0bfc-4b1a-afed-71d75d1e344e",
   "metadata": {},
   "outputs": [],
   "source": [
    "patience_url = \"https://rpo.library.utoronto.ca/content/patience\"\n",
    "sir_gawain_url = \"https://rpo.library.utoronto.ca/content/sir-gawain-and-green-knight\"\n",
    "cleanness_url = \"https://rpo.library.utoronto.ca/content/cleanness\"\n",
    "pearl_url = \"pearl.html\"\n",
    "# pearl_url = \"https://quod.lib.umich.edu/c/cme/Pearl?rgn=main;view=fulltext\"\n",
    "# need to manually download pearl html file for this step "
   ]
  },
  {
   "cell_type": "code",
   "execution_count": 2,
   "id": "5295fab3-f254-4734-8f8e-e9ece6ce8547",
   "metadata": {},
   "outputs": [],
   "source": [
    "import requests\n",
    "from bs4 import BeautifulSoup\n",
    "\n",
    "def url_to_soup(url):\n",
    "    page = requests.get(url)\n",
    "    soup = BeautifulSoup(page.content, \"html.parser\")\n",
    "    return soup"
   ]
  },
  {
   "cell_type": "markdown",
   "id": "379ddc07-05d7-46bf-bdc9-8e62afc26ce7",
   "metadata": {},
   "source": [
    "# Pearl"
   ]
  },
  {
   "cell_type": "code",
   "execution_count": 3,
   "id": "424ced25-420a-482d-966b-9de8626e688a",
   "metadata": {},
   "outputs": [],
   "source": [
    "with open(\"pearl.html\", \"r\", encoding=\"utf-8\") as pearl_file:\n",
    "    pearl_html = pearl_file.read()\n",
    "    pearl_soup = BeautifulSoup(pearl_html, \"html.parser\")"
   ]
  },
  {
   "cell_type": "code",
   "execution_count": 4,
   "id": "10053ff2-1ee6-43b5-ae63-da7a592685bf",
   "metadata": {},
   "outputs": [],
   "source": [
    "pearl_stanzas = [\n",
    "    \"\".join([\n",
    "        line.text for line in stanza.find_all(\"span\", \"line\")]\n",
    "           ).replace(\"\\n\\n\", \"\\n\") for stanza in pearl_soup.find_all('div', \"lg lg--stanza\")]"
   ]
  },
  {
   "cell_type": "code",
   "execution_count": 6,
   "id": "b6e0ed82-ffd9-44c1-8f25-fab898c0b5a2",
   "metadata": {},
   "outputs": [],
   "source": [
    "# pearl_stanzas"
   ]
  },
  {
   "cell_type": "markdown",
   "id": "cb5ac538-83ed-4a27-8ca7-4cef9635f747",
   "metadata": {},
   "source": [
    "# Gawain"
   ]
  },
  {
   "cell_type": "code",
   "execution_count": 7,
   "id": "d665ab94-11bc-43d1-ba67-1cc1146f3e47",
   "metadata": {},
   "outputs": [],
   "source": [
    "sir_gawain_soup = url_to_soup(sir_gawain_url)"
   ]
  },
  {
   "cell_type": "code",
   "execution_count": 8,
   "id": "84ba5f75-6c2f-4bc2-a872-07f074210ed1",
   "metadata": {},
   "outputs": [],
   "source": [
    "def soup_to_stanzas(soup):    \n",
    "    stanzas = []\n",
    "    current_stanza = []\n",
    "    for div in soup.find_all('div', 'poemline'):\n",
    "        if 'stanza' in div.get('class', []):  # Start of a new stanza section\n",
    "            if current_stanza:  # If we have lines from previous stanza, add them\n",
    "                stanzas.append('\\n'.join(current_stanza))\n",
    "            current_stanza = []\n",
    "        line = div.find('span', 'line-text')\n",
    "        if line and not line.find('nonum') and line.text.strip():\n",
    "            current_stanza.append(line.text.strip())\n",
    "    # Don't forget to add the last stanza\n",
    "    if current_stanza:\n",
    "        stanzas.append('\\n'.join(current_stanza))\n",
    "    return stanzas"
   ]
  },
  {
   "cell_type": "code",
   "execution_count": 9,
   "id": "a9412906-b32c-4d19-b6a1-258da238a6e7",
   "metadata": {},
   "outputs": [],
   "source": [
    "def url_to_stanzas(url):\n",
    "    soup = url_to_soup(url)\n",
    "    stanzas = soup_to_stanzas(soup)\n",
    "    return stanzas"
   ]
  },
  {
   "cell_type": "code",
   "execution_count": 10,
   "id": "179580b7-3849-43e4-9627-7b88654274cc",
   "metadata": {},
   "outputs": [],
   "source": [
    "gawain_stanzas = soup_to_stanzas(sir_gawain_soup)"
   ]
  },
  {
   "cell_type": "code",
   "execution_count": 12,
   "id": "72cbf14f-f490-4756-89b2-d6b3edbbbf95",
   "metadata": {},
   "outputs": [],
   "source": [
    "# gawain_stanzas"
   ]
  },
  {
   "cell_type": "markdown",
   "id": "645f9cd6-9ba7-4c9d-90a7-ad3c3157890b",
   "metadata": {},
   "source": [
    "# Cleanness"
   ]
  },
  {
   "cell_type": "code",
   "execution_count": 13,
   "id": "96664fae-a7a3-4a44-80b2-40981a7dfb84",
   "metadata": {},
   "outputs": [],
   "source": [
    "import numpy as np"
   ]
  },
  {
   "cell_type": "code",
   "execution_count": 14,
   "id": "db2886f8-a5bc-4d78-8691-1a1c7782184c",
   "metadata": {},
   "outputs": [],
   "source": [
    "cleanness_stanzas = url_to_stanzas(cleanness_url)"
   ]
  },
  {
   "cell_type": "code",
   "execution_count": 15,
   "id": "896e4220-3fb0-4e2c-8882-3287e9282760",
   "metadata": {},
   "outputs": [],
   "source": [
    "# cleanness_stanzas[0][:1000]"
   ]
  },
  {
   "cell_type": "code",
   "execution_count": 16,
   "id": "d6205893-a708-4d06-af6c-abd563a419ff",
   "metadata": {},
   "outputs": [],
   "source": [
    "def poem_chunker(poem, num_chunks):\n",
    "    # Turn \n",
    "    poem_lines = sum([poem[index_stanza].split(\"\\n\") for index_stanza in range(len(poem))], [])\n",
    "    poem_chunks = [\"\\n\".join(list([str(line) for line in chunk])) for chunk in np.array_split(poem_lines, num_chunks)]\n",
    "    return poem_chunks"
   ]
  },
  {
   "cell_type": "code",
   "execution_count": 17,
   "id": "6193a1f6-460b-41c5-ada7-cc16abb9ef7d",
   "metadata": {},
   "outputs": [],
   "source": [
    "cleanness_stanzas = poem_chunker(cleanness_stanzas, 180)"
   ]
  },
  {
   "cell_type": "code",
   "execution_count": 21,
   "id": "2f05095b-36a1-4284-be39-1c7453dde5c2",
   "metadata": {},
   "outputs": [],
   "source": [
    "# cleanness_stanzas"
   ]
  },
  {
   "cell_type": "code",
   "execution_count": 22,
   "id": "6db40a02-7a6f-442f-981a-90e957685e55",
   "metadata": {},
   "outputs": [],
   "source": [
    "# cleanness_stanzas"
   ]
  },
  {
   "cell_type": "markdown",
   "id": "285938d8-c30d-4a3d-804b-8efe13d163d5",
   "metadata": {},
   "source": [
    "# Patience"
   ]
  },
  {
   "cell_type": "code",
   "execution_count": 23,
   "id": "5812a469-574d-443a-b231-23104bdcd790",
   "metadata": {},
   "outputs": [],
   "source": [
    "patience_stanzas = url_to_stanzas(patience_url)"
   ]
  },
  {
   "cell_type": "code",
   "execution_count": 24,
   "id": "fe5287ea-5276-4c57-a7df-6e3dd77565c6",
   "metadata": {},
   "outputs": [],
   "source": [
    "patience_stanzas = poem_chunker(patience_stanzas, 53)"
   ]
  },
  {
   "cell_type": "code",
   "execution_count": 26,
   "id": "a76dbbff-042b-43e8-8044-188945514679",
   "metadata": {},
   "outputs": [],
   "source": [
    "# patience_stanzas"
   ]
  },
  {
   "cell_type": "code",
   "execution_count": null,
   "id": "c92c9b07-8ef5-48ad-819a-0fe52a3053b9",
   "metadata": {},
   "outputs": [],
   "source": [
    "# patience_stanzas"
   ]
  },
  {
   "cell_type": "code",
   "execution_count": 27,
   "id": "122e34e6-5e31-45d2-b365-837c8a85d073",
   "metadata": {},
   "outputs": [],
   "source": [
    "pearl_ms_stanzas = pearl_stanzas + gawain_stanzas + cleanness_stanzas + patience_stanzas"
   ]
  },
  {
   "cell_type": "code",
   "execution_count": 38,
   "id": "d7c84219-2d15-45db-86a7-5e92901d0ed7",
   "metadata": {},
   "outputs": [
    {
     "data": {
      "text/plain": [
       "['Perle, pleasaunte to prynces paye',\n",
       " 'To clanly clos in golde so clere,',\n",
       " 'Oute of oryent, I hardyly saye,',\n",
       " 'Ne proued I neuer her precios pere.',\n",
       " 'So rounde, so reken in vche araye,',\n",
       " 'So smal, so smoþe her sydeȝ were,',\n",
       " 'Quere-so-euer I jugged gemmeȝ gaye,',\n",
       " 'I sette hyr sengeley in synglere.',\n",
       " 'Allas! I leste hyr in on erbere;',\n",
       " 'Þurȝ gresse to grounde hit fro me yot.',\n",
       " 'I dewyne, fordolked of luf-daungere',\n",
       " 'Of þat pryuy perle wythouten spot.']"
      ]
     },
     "execution_count": 38,
     "metadata": {},
     "output_type": "execute_result"
    }
   ],
   "source": [
    "[line.strip() for line in pearl_ms_stanzas[0].split(\"\\n\") if len(line) > 0]"
   ]
  },
  {
   "cell_type": "code",
   "execution_count": 29,
   "id": "51a14c84-cf2d-4fde-90d5-6b26d7ab6691",
   "metadata": {},
   "outputs": [
    {
     "data": {
      "text/plain": [
       "465"
      ]
     },
     "execution_count": 29,
     "metadata": {},
     "output_type": "execute_result"
    }
   ],
   "source": [
    "len(pearl_ms_stanzas)"
   ]
  },
  {
   "cell_type": "markdown",
   "id": "f041b6f6-be97-470e-ad7d-96e178f70f36",
   "metadata": {},
   "source": [
    "# How many stanzas?"
   ]
  },
  {
   "cell_type": "code",
   "execution_count": 32,
   "id": "6e219564-0bad-4f77-a41e-b64ee6f6acff",
   "metadata": {},
   "outputs": [],
   "source": [
    "# (267 * len(gawain_stanzas)) + (152 * len(pearl_stanzas)) + (188 * len(cleanness_stanzas)) + (203 * len(patience_stanzas))"
   ]
  },
  {
   "cell_type": "code",
   "execution_count": 33,
   "id": "bb91abb8-49a4-431a-8294-29867712c4ce",
   "metadata": {},
   "outputs": [],
   "source": [
    "# sum([len(stanzas) for stanzas in [pearl_stanzas, gawain_stanzas, cleanness_stanzas, patience_stanzas]])"
   ]
  },
  {
   "cell_type": "code",
   "execution_count": 34,
   "id": "462215db-b923-4cf9-9378-3127b6ad8393",
   "metadata": {},
   "outputs": [],
   "source": [
    "# sum([sum(sum([len(stanza.split()) for stanza in stanzas], [])) /or s/tanzas in [pearl_stanzas, gawain_stanzas, cleanness_stanzas, patience_stanzas]])"
   ]
  },
  {
   "cell_type": "markdown",
   "id": "0ade7742-76c0-46a0-aecd-290e16697a44",
   "metadata": {},
   "source": [
    "## JSON conversion"
   ]
  },
  {
   "cell_type": "code",
   "execution_count": null,
   "id": "d638cf3c-7a95-4748-ba6c-e8cb3432aa6d",
   "metadata": {},
   "outputs": [],
   "source": [
    "import json"
   ]
  },
  {
   "cell_type": "code",
   "execution_count": null,
   "id": "cea69986-a11d-439b-859c-9cb5cf2228f8",
   "metadata": {},
   "outputs": [],
   "source": [
    "def stanzas_to_jsons(stanzas):\n",
    "    stanza_dictionary = [{stanza: stanza} for stanza in stanzas]\n",
    "    return stanza_dictionary"
   ]
  },
  {
   "cell_type": "markdown",
   "id": "57a94531-96a9-4f2e-a7b4-eb8232a4e5de",
   "metadata": {},
   "source": [
    "---"
   ]
  },
  {
   "cell_type": "markdown",
   "id": "331cda0a-1133-4218-8db9-c907496799e1",
   "metadata": {},
   "source": [
    "# GRAVEYARD"
   ]
  },
  {
   "cell_type": "markdown",
   "id": "2466411d-c1d9-48f3-8757-512eed133af0",
   "metadata": {},
   "source": [
    "```\n",
    "\n",
    "# gawain_stanzas[0]\n",
    "\n",
    "np.array_split(cleanness_stanzas[0].split(\"\\n\"), 180)\n",
    "\n",
    "# patience_soup, sir_gawain_soup, cleanness_soup, pearl_soup = map(url_to_soup,\n",
    "#     [patience_url, sir_gawain_url, cleanness_url, pearl_url])\n",
    "\n",
    "# pearl_soup\n",
    "\n",
    "# # print(stanzas_to_jsons(cleanness_stanzas))\n",
    "\n",
    "\n",
    "\n",
    "\n",
    "\n",
    "\n",
    "\n",
    "# len(patience_stanzas)\n",
    "\n",
    "# len(patience_stanzas[0])\n",
    "\n",
    "# len(gawain_stanzas)\n",
    "\n",
    "# len(gawain_stanzas2)\n",
    "\n",
    "\n",
    "\n",
    "## <div class=\"lg lg--stanza\">\n",
    "## code doesn't work if this is included... \n",
    "\n",
    "print(\"\".join([line.text for line in stanzas[0].find_all(\"span\", \"line\")]).replace(\"\\n\\n\", \"\\n\"))\n",
    "\n",
    "pearl_stanzas\n",
    "\n",
    "print(pearl_stanzas[-5])\n",
    "\n",
    "# sir_gawain_soup\n",
    "\n",
    "# pearl_stanzas\n",
    "\n",
    "divs = sir_gawain_soup.find_all('div')\n",
    "print(\"All unique div classes:\")\n",
    "classes_seen = set()\n",
    "for div in divs:\n",
    "    if div.get('class'):\n",
    "        class_str = ' '.join(div.get('class'))\n",
    "        if class_str not in classes_seen:\n",
    "            classes_seen.add(class_str)\n",
    "            print(f\"Class: {class_str}\")\n",
    "print(\"\\nTotal unique class combinations:\", len(classes_seen))\n",
    "\n",
    "print(\"First 10 poem lines:\")\n",
    "for i, line in enumerate(poem_lines[:10]):\n",
    "    text = line.text.strip()\n",
    "    print(f\"Line {i+1}: {text}\")\n",
    "\n",
    "stanza_check = sir_gawain_soup.find_all('div', class_='poemline stanza')\n",
    "print(f\"\\nFound {len(stanzas)} stanzas\")\n",
    "if stanzas:\n",
    "    print(\"\\nFirst stanza:\")\n",
    "    print(stanza_check[0].text.strip())\n",
    "\n",
    "gawain_stanzas = sir_gawain_soup.find_all('div', \"poemline stanza\")\n",
    "\n",
    "gawain_stanzas2 = [\n",
    "    \"\\n\".join([\n",
    "        line.text for line in stanza.find_all(\"span\", \"line-text\")\n",
    "        if not line.find('nonum') and line.text.strip()  # Skip translations and empty lines\n",
    "    ]).replace(\"\\n\\n\", \"\\n\")\n",
    "    for stanza in sir_gawain_soup.find_all('div', \"poemline stanza\")\n",
    "    if any(line.text.strip() for line in stanza.find_all(\"span\", \"line-text\") if not line.find('nonum'))  # Only include stanzas with non-empty content\n",
    "]\n",
    "\n",
    "gawain_stanzas2\n",
    "\n",
    "print(gawain_stanzas2[0])\n",
    "\n",
    "print(gawain_stanzas2[0])\n",
    "\n",
    "print(gawain_stanzas2[1])\n",
    "\n",
    "\n",
    "\n",
    "\n",
    "\n",
    "print(\"\".join([line.text for line in gawain_stanzas[1].find_all(\"span\", \"line-text\")]).replace(\"\\n\\n\", \"\\n\"))"
   ]
  }
 ],
 "metadata": {
  "kernelspec": {
   "display_name": "Python 3 (ipykernel)",
   "language": "python",
   "name": "python3"
  },
  "language_info": {
   "codemirror_mode": {
    "name": "ipython",
    "version": 3
   },
   "file_extension": ".py",
   "mimetype": "text/x-python",
   "name": "python",
   "nbconvert_exporter": "python",
   "pygments_lexer": "ipython3",
   "version": "3.12.8"
  }
 },
 "nbformat": 4,
 "nbformat_minor": 5
}
