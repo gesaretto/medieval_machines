{
 "cells": [
  {
   "cell_type": "code",
   "execution_count": 1,
   "id": "0e31de2c-0bfc-4b1a-afed-71d75d1e344e",
   "metadata": {},
   "outputs": [],
   "source": [
    "patience_url = \"https://rpo.library.utoronto.ca/content/patience\"\n",
    "sir_gawain_url = \"https://rpo.library.utoronto.ca/content/sir-gawain-and-green-knight\"\n",
    "cleanness_url = \"https://rpo.library.utoronto.ca/content/cleanness\"\n",
    "pearl_url = \"pearl.html\"\n",
    "# pearl_url = \"https://quod.lib.umich.edu/c/cme/Pearl?rgn=main;view=fulltext\"\n",
    "# need to manually download pearl html file for this step "
   ]
  },
  {
   "cell_type": "code",
   "execution_count": 2,
   "id": "5295fab3-f254-4734-8f8e-e9ece6ce8547",
   "metadata": {},
   "outputs": [],
   "source": [
    "import requests\n",
    "from bs4 import BeautifulSoup\n",
    "\n",
    "def url_to_soup(url):\n",
    "    page = requests.get(url)\n",
    "    soup = BeautifulSoup(page.content, \"html.parser\")\n",
    "    return soup"
   ]
  },
  {
   "cell_type": "markdown",
   "id": "379ddc07-05d7-46bf-bdc9-8e62afc26ce7",
   "metadata": {},
   "source": [
    "# Pearl"
   ]
  },
  {
   "cell_type": "code",
   "execution_count": 3,
   "id": "424ced25-420a-482d-966b-9de8626e688a",
   "metadata": {},
   "outputs": [],
   "source": [
    "with open(\"pearl.html\", \"r\", encoding=\"utf-8\") as pearl_file:\n",
    "    pearl_html = pearl_file.read()\n",
    "    pearl_soup = BeautifulSoup(pearl_html, \"html.parser\")"
   ]
  },
  {
   "cell_type": "code",
   "execution_count": 4,
   "id": "10053ff2-1ee6-43b5-ae63-da7a592685bf",
   "metadata": {},
   "outputs": [],
   "source": [
    "pearl_stanzas = [\n",
    "    \"\".join([\n",
    "        line.text for line in stanza.find_all(\"span\", \"line\")]\n",
    "           ).replace(\"\\n\\n\", \"\\n\") for stanza in pearl_soup.find_all('div', \"lg lg--stanza\")]"
   ]
  },
  {
   "cell_type": "markdown",
   "id": "cb5ac538-83ed-4a27-8ca7-4cef9635f747",
   "metadata": {},
   "source": [
    "# Gawain"
   ]
  },
  {
   "cell_type": "code",
   "execution_count": 5,
   "id": "d665ab94-11bc-43d1-ba67-1cc1146f3e47",
   "metadata": {},
   "outputs": [],
   "source": [
    "sir_gawain_soup = url_to_soup(sir_gawain_url)"
   ]
  },
  {
   "cell_type": "code",
   "execution_count": 6,
   "id": "84ba5f75-6c2f-4bc2-a872-07f074210ed1",
   "metadata": {},
   "outputs": [],
   "source": [
    "def soup_to_stanzas(soup):    \n",
    "    stanzas = []\n",
    "    current_stanza = []\n",
    "    for div in soup.find_all('div', 'poemline'):\n",
    "        if 'stanza' in div.get('class', []):  # Start of a new stanza section\n",
    "            if current_stanza:  # If we have lines from previous stanza, add them\n",
    "                stanzas.append('\\n'.join(current_stanza))\n",
    "            current_stanza = []\n",
    "        line = div.find('span', 'line-text')\n",
    "        if line and not line.find('nonum') and line.text.strip():\n",
    "            current_stanza.append(line.text.strip())\n",
    "    # Don't forget to add the last stanza\n",
    "    if current_stanza:\n",
    "        stanzas.append('\\n'.join(current_stanza))\n",
    "    return stanzas"
   ]
  },
  {
   "cell_type": "code",
   "execution_count": 7,
   "id": "a9412906-b32c-4d19-b6a1-258da238a6e7",
   "metadata": {},
   "outputs": [],
   "source": [
    "def url_to_stanzas(url):\n",
    "    soup = url_to_soup(url)\n",
    "    stanzas = soup_to_stanzas(soup)\n",
    "    return stanzas"
   ]
  },
  {
   "cell_type": "code",
   "execution_count": 8,
   "id": "179580b7-3849-43e4-9627-7b88654274cc",
   "metadata": {},
   "outputs": [],
   "source": [
    "gawain_stanzas = soup_to_stanzas(sir_gawain_soup)"
   ]
  },
  {
   "cell_type": "markdown",
   "id": "645f9cd6-9ba7-4c9d-90a7-ad3c3157890b",
   "metadata": {},
   "source": [
    "# Cleanness"
   ]
  },
  {
   "cell_type": "code",
   "execution_count": 9,
   "id": "96664fae-a7a3-4a44-80b2-40981a7dfb84",
   "metadata": {},
   "outputs": [],
   "source": [
    "import numpy as np"
   ]
  },
  {
   "cell_type": "code",
   "execution_count": 10,
   "id": "db2886f8-a5bc-4d78-8691-1a1c7782184c",
   "metadata": {},
   "outputs": [],
   "source": [
    "cleanness_stanzas = url_to_stanzas(cleanness_url)"
   ]
  },
  {
   "cell_type": "code",
   "execution_count": 11,
   "id": "d6205893-a708-4d06-af6c-abd563a419ff",
   "metadata": {},
   "outputs": [],
   "source": [
    "def poem_chunker(poem, num_chunks):\n",
    "    # Turn \n",
    "    poem_lines = sum([poem[index_stanza].split(\"\\n\") for index_stanza in range(len(poem))], [])\n",
    "    poem_chunks = [\"\\n\".join(list([str(line) for line in chunk])) for chunk in np.array_split(poem_lines, num_chunks)]\n",
    "    return poem_chunks"
   ]
  },
  {
   "cell_type": "code",
   "execution_count": 12,
   "id": "6193a1f6-460b-41c5-ada7-cc16abb9ef7d",
   "metadata": {},
   "outputs": [],
   "source": [
    "cleanness_stanzas = poem_chunker(cleanness_stanzas, 180)"
   ]
  },
  {
   "cell_type": "markdown",
   "id": "285938d8-c30d-4a3d-804b-8efe13d163d5",
   "metadata": {},
   "source": [
    "# Patience"
   ]
  },
  {
   "cell_type": "code",
   "execution_count": 13,
   "id": "5812a469-574d-443a-b231-23104bdcd790",
   "metadata": {},
   "outputs": [],
   "source": [
    "patience_stanzas = url_to_stanzas(patience_url)"
   ]
  },
  {
   "cell_type": "code",
   "execution_count": 14,
   "id": "fe5287ea-5276-4c57-a7df-6e3dd77565c6",
   "metadata": {},
   "outputs": [],
   "source": [
    "patience_stanzas = poem_chunker(patience_stanzas, 53)"
   ]
  },
  {
   "cell_type": "code",
   "execution_count": 15,
   "id": "122e34e6-5e31-45d2-b365-837c8a85d073",
   "metadata": {},
   "outputs": [],
   "source": [
    "pearl_ms_stanzas = pearl_stanzas + gawain_stanzas + cleanness_stanzas + patience_stanzas"
   ]
  },
  {
   "cell_type": "code",
   "execution_count": 16,
   "id": "51a14c84-cf2d-4fde-90d5-6b26d7ab6691",
   "metadata": {},
   "outputs": [
    {
     "data": {
      "text/plain": [
       "465"
      ]
     },
     "execution_count": 16,
     "metadata": {},
     "output_type": "execute_result"
    }
   ],
   "source": [
    "len(pearl_ms_stanzas)"
   ]
  },
  {
   "cell_type": "markdown",
   "id": "0ade7742-76c0-46a0-aecd-290e16697a44",
   "metadata": {},
   "source": [
    "## JSON conversion"
   ]
  },
  {
   "cell_type": "code",
   "execution_count": 17,
   "id": "d638cf3c-7a95-4748-ba6c-e8cb3432aa6d",
   "metadata": {},
   "outputs": [],
   "source": [
    "import json"
   ]
  },
  {
   "cell_type": "code",
   "execution_count": 18,
   "id": "cea69986-a11d-439b-859c-9cb5cf2228f8",
   "metadata": {},
   "outputs": [],
   "source": [
    "def stanzas_to_jsons(stanzas, json_output_path=\"stanzas.json\"):\n",
    "    stanza_dictionary = {\n",
    "        \"user\": stanzas,\n",
    "        \"assistant\": stanzas\n",
    "    }\n",
    "    with open(json_output_path, \"w\", encoding=\"utf-8\") as json_output_file:\n",
    "        json.dump(stanza_dictionary, json_output_file)\n",
    "    return stanza_dictionary"
   ]
  },
  {
   "cell_type": "code",
   "execution_count": 20,
   "id": "b91aebc1-2e3c-4f88-b1ef-cc41ca4ff9c4",
   "metadata": {},
   "outputs": [],
   "source": [
    "stanza_dictionary = stanzas_to_jsons(pearl_ms_stanzas)"
   ]
  }
 ],
 "metadata": {
  "kernelspec": {
   "display_name": "Python 3 (ipykernel)",
   "language": "python",
   "name": "python3"
  },
  "language_info": {
   "codemirror_mode": {
    "name": "ipython",
    "version": 3
   },
   "file_extension": ".py",
   "mimetype": "text/x-python",
   "name": "python",
   "nbconvert_exporter": "python",
   "pygments_lexer": "ipython3",
   "version": "3.12.9"
  }
 },
 "nbformat": 4,
 "nbformat_minor": 5
}
